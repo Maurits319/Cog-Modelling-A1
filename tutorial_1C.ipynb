{
  "cells": [
    {
      "cell_type": "markdown",
      "id": "51cb4d9f-d4ba-4831-a575-c4547a3a0d2d",
      "metadata": {
        "id": "51cb4d9f-d4ba-4831-a575-c4547a3a0d2d"
      },
      "source": [
        "\n",
        "# PART III - Model selection and model recovery\n",
        "\n",
        "**In this tutorial, we will see how to:**\n",
        "\n",
        "- perform model selection using parametric and non-parametric methods (cross-validation)\n",
        "- run model recovery analysis\n"
      ]
    },
    {
      "cell_type": "code",
      "execution_count": 2,
      "id": "a3c79fe0-815d-4cef-a775-2588fdc7a0c3",
      "metadata": {
        "colab": {
          "base_uri": "https://localhost:8080/"
        },
        "id": "a3c79fe0-815d-4cef-a775-2588fdc7a0c3",
        "outputId": "9142c168-086b-42e0-dbc3-d6d531d78de5"
      },
      "outputs": [
        {
          "output_type": "stream",
          "name": "stdout",
          "text": [
            "--2024-09-20 13:14:13--  https://raw.githubusercontent.com/bambschool/BAMB2024/main/1-modeling_101/tutorial_1_lib.py\n",
            "Resolving raw.githubusercontent.com (raw.githubusercontent.com)... 185.199.108.133, 185.199.109.133, 185.199.110.133, ...\n",
            "Connecting to raw.githubusercontent.com (raw.githubusercontent.com)|185.199.108.133|:443... connected.\n",
            "HTTP request sent, awaiting response... 200 OK\n",
            "Length: 4696 (4.6K) [text/plain]\n",
            "Saving to: ‘tutorial_1_lib.py’\n",
            "\n",
            "tutorial_1_lib.py   100%[===================>]   4.59K  --.-KB/s    in 0s      \n",
            "\n",
            "2024-09-20 13:14:13 (38.4 MB/s) - ‘tutorial_1_lib.py’ saved [4696/4696]\n",
            "\n"
          ]
        }
      ],
      "source": [
        "# define the github path and authorization token\n",
        "RAW_GITHUB_PATH = 'https://raw.githubusercontent.com/bambschool/BAMB2024/main/1-modeling_101/'\n",
        "\n",
        "# define the list of files to be downloaded\n",
        "files = ['tutorial_1_lib.py']\n",
        "\n",
        "for file in files:\n",
        "  !wget -O {file} \"{RAW_GITHUB_PATH}{file}\""
      ]
    },
    {
      "cell_type": "code",
      "execution_count": 3,
      "id": "4a5a5d38-8f15-47e5-a0ca-d89091f23550",
      "metadata": {
        "id": "4a5a5d38-8f15-47e5-a0ca-d89091f23550"
      },
      "outputs": [],
      "source": [
        "# import packages\n",
        "import numpy as np\n",
        "import pandas as pd\n",
        "import matplotlib.pyplot as plt\n",
        "from scipy.stats import norm\n",
        "from scipy.stats import pearsonr\n",
        "import scipy.optimize as optimize\n",
        "\n",
        "from tutorial_1_lib import *"
      ]
    },
    {
      "cell_type": "markdown",
      "id": "771ab653-5c4f-41d2-b03d-24029578df86",
      "metadata": {
        "id": "771ab653-5c4f-41d2-b03d-24029578df86"
      },
      "source": [
        "**We use model B to generate fake data and in the following we assume that this is our actual experimental data.**"
      ]
    },
    {
      "cell_type": "code",
      "execution_count": 4,
      "id": "e7ad21a3-9f92-4d54-9fac-6cde29fb5d46",
      "metadata": {
        "id": "e7ad21a3-9f92-4d54-9fac-6cde29fb5d46"
      },
      "outputs": [],
      "source": [
        "# Define stimulus values for the simulation\n",
        "stim_values = [-3, -2, -1, -.5, 0, .5, 1, 2, 3]  # Possible stimulus evidence values\n",
        "\n",
        "# Simulate Model B data, which we'll assume is our experimental data\n",
        "n = 2500  # Number of trials\n",
        "sigma = 1  # Decision noise parameter for Model B\n",
        "Lambda = 0.2  # Proportion of lapses (Model B parameter)\n",
        "\n",
        "# First, generate random experimental conditions and stimulus evidence for each trial\n",
        "c = np.random.choice(a=['control', 'manipulation'], size=n)  # Condition\n",
        "s = np.random.choice(a=stim_values, size=n)  # Stimulus evidence\n",
        "\n",
        "# Simulate responses using Model B with the given parameters\n",
        "r = simulate_modelB(s, c, sigma_d=sigma, Lambda=Lambda)\n",
        "\n",
        "# Create a DataFrame to store the simulated data\n",
        "data = pd.DataFrame({'stimulus': s, 'condition': c, 'response': r})"
      ]
    },
    {
      "cell_type": "markdown",
      "id": "3d299360",
      "metadata": {
        "id": "3d299360"
      },
      "source": [
        "# III.1. Model selection\n",
        "\n",
        "## Penalized log-likelihood (AIC, BIC)\n",
        "\n",
        "To make the comparison more fair between models of different complexities, one approach is simply to apply a certain penalty term on top of the likelihood that penalizes the models with more parameters. The two most popular metrics for doing so just differ in the strength of the penalty term:\n",
        "- the **Akaike Information Criterion (AIC)** is computed as $AIC = 2k - 2 \\hat{LLH}$, where $k$ is the number of parameters of the model (i.e. a simple linear regression model will have two, the intercept and the slope) and $\\hat{LLH}$ is the log-likelihood of the model estimated at the maximum-likelihood parameters (the value that is provided in the summary of the model after fitting).\n",
        "- the **Bayesian Information Criterion (BIC)** is computed as $BIC = k \\log n - 2 \\hat{LLH}$ where $n$ is the number of observations (i.e. trials).\n",
        "The smaller the AIC (or BIC), the better is the model, because of the negative sign before the log-likelihood. The first part of the equation is positive and correspond to the penalty term. That term is larger in the case of the BIC, i.e. the BIC penalizes more severely models with many parameters than the AIC. In other words, it will be more conservative in rejecting the null hypothesis. It's important to note that these are **relative measures**: their raw values tell us very little, it's only by comparing values between different models that we can interpret which model better captures the data. So we cannot conclude from the BIC/AIC that one model is a good model of the data; only that it is a better model of the data than others.\n",
        "\n",
        "Akaike's rule of thumb: **two models are essentially indistinguishable if the difference of their AICs is less than 2** (same for BIC). The larger the difference, the more evidence towards the better model against the other.\n"
      ]
    },
    {
      "cell_type": "markdown",
      "id": "ecadac49-08e0-4d4e-925f-3501ba9a521c",
      "metadata": {
        "id": "ecadac49-08e0-4d4e-925f-3501ba9a521c"
      },
      "source": [
        "**Follow the example of `fit_model0` to define functions that fit model A and B and return the fitted parameters, the log-likelihood, AIC and BIC.**"
      ]
    },
    {
      "cell_type": "code",
      "execution_count": 5,
      "id": "55d95919-c2fc-41f4-a5d8-3f670e89e5cc",
      "metadata": {
        "id": "55d95919-c2fc-41f4-a5d8-3f670e89e5cc"
      },
      "outputs": [],
      "source": [
        "# - Using Penalized Log-Likelihood (AIC, BIC) to select the best model\n",
        "# Define functions to fit each model and compute AIC and BIC\n",
        "\n",
        "def fit_model0(data):\n",
        "    \"\"\"\n",
        "    Fit the null model (Model B with Lambda=0) and compute the AIC, BIC.\n",
        "    \"\"\"\n",
        "    # Minimize the negative log-likelihood of Model B with Lambda=0\n",
        "    result = optimize.minimize(lambda pp: -LogLikelihood_modelB(data, pp[0], 0), x0=[1], bounds=[(0.1, 10)])\n",
        "\n",
        "    # Extract fitted parameters and log-likelihood\n",
        "    LLH = -result.fun  # Log-likelihood\n",
        "    AIC = 2 * len(result.x) - 2 * LLH  # AIC calculation\n",
        "    BIC = len(result.x) * np.log(data.shape[0]) - 2 * LLH  # BIC calculation\n",
        "\n",
        "    return result.x, LLH, AIC, BIC\n",
        "\n",
        "def fit_modelA(data):\n",
        "    \"\"\"\n",
        "    Fit Model A and compute AIC and BIC.\n",
        "    \"\"\"\n",
        "    # Minimize the negative log-likelihood for Model A (with parameters sigma_d, sigma_m)\n",
        "    result = optimize.minimize(lambda pp: -LogLikelihood_modelA(data, pp[0], pp[1]), x0=[1, 1], bounds=[(0.1, 10), (0.1, 10)])\n",
        "\n",
        "    # Extract fitted parameters and log-likelihood\n",
        "    LLH = -result.fun\n",
        "    AIC = 2 * len(result.x) - 2 * LLH  # AIC calculation\n",
        "    BIC = len(result.x) * np.log(data.shape[0]) - 2 * LLH  # BIC calculation\n",
        "\n",
        "    return result.x, LLH, AIC, BIC\n",
        "\n",
        "def fit_modelB(data):\n",
        "    \"\"\"\n",
        "    Fit Model B and compute AIC and BIC.\n",
        "    \"\"\"\n",
        "    # Minimize the negative log-likelihood for Model B (with parameters sigma_d, Lambda)\n",
        "    result = optimize.minimize(lambda pp: -LogLikelihood_modelB(data, pp[0], pp[1]), x0=[1, 0.1], bounds=[(0.1, 10), (0, 1)])\n",
        "\n",
        "    # Extract fitted parameters and log-likelihood\n",
        "    LLH = -result.fun\n",
        "    AIC = 2 * len(result.x) - 2 * LLH  # AIC calculation\n",
        "    BIC = len(result.x) * np.log(data.shape[0]) - 2 * LLH  # BIC calculation\n",
        "\n",
        "    return result.x, LLH, AIC, BIC\n",
        "\n",
        "# Example usage: fit models to the data\n",
        "model0_x, model0_LLH, model0_AIC, model0_BIC = fit_model0(data)  # Null model\n",
        "modelA_x, modelA_LLH, modelA_AIC, modelA_BIC = fit_modelA(data)  # Model A\n",
        "modelB_x, modelB_LLH, modelB_AIC, modelB_BIC = fit_modelB(data)  # Model B"
      ]
    },
    {
      "cell_type": "markdown",
      "id": "6c5191d0-52a5-4827-bab9-69547072ce4a",
      "metadata": {
        "id": "6c5191d0-52a5-4827-bab9-69547072ce4a"
      },
      "source": [
        "**Visualize the AIC and BIC of model A and B vs. the null model (e.g. in a bar plot). What do you conclude?**"
      ]
    },
    {
      "cell_type": "code",
      "execution_count": 6,
      "id": "fade816d-2b61-49f4-a619-8287bb5bd476",
      "metadata": {
        "id": "fade816d-2b61-49f4-a619-8287bb5bd476",
        "outputId": "119911b8-4b46-4535-f372-c4434231974e",
        "colab": {
          "base_uri": "https://localhost:8080/",
          "height": 507
        }
      },
      "outputs": [
        {
          "output_type": "display_data",
          "data": {
            "text/plain": [
              "<Figure size 800x500 with 2 Axes>"
            ],
            "image/png": "[encoded data removed]"
          },
          "metadata": {}
        }
      ],
      "source": [
        "# Visualize AIC and BIC differences between models\n",
        "fig, axes = plt.subplots(1, 2, figsize=(8, 5))\n",
        "\n",
        "# Plot AIC difference relative to the null model\n",
        "axes[0].bar(['model A', 'model B'], [modelA_AIC - model0_AIC, modelB_AIC - model0_AIC])\n",
        "axes[0].set_xlabel('Model')\n",
        "axes[0].set_ylabel('AIC')\n",
        "axes[0].set_title('AIC relative to null model')\n",
        "\n",
        "# Plot BIC difference relative to the null model\n",
        "axes[1].bar(['model A', 'model B'], [modelA_BIC - model0_BIC, modelB_BIC - model0_BIC])\n",
        "axes[1].set_xlabel('Model')\n",
        "axes[1].set_ylabel('BIC')\n",
        "axes[1].set_title('BIC relative to null model')\n",
        "\n",
        "# Ensure both plots have the same y-axis range\n",
        "min_val = min(axes[0].get_ylim()[0], axes[1].get_ylim()[0])\n",
        "max_val = max(axes[0].get_ylim()[1], axes[1].get_ylim()[1])\n",
        "axes[0].set_ylim(min_val, max_val)\n",
        "axes[1].set_ylim(min_val, max_val)\n",
        "\n",
        "plt.tight_layout()\n",
        "plt.show()"
      ]
    },
    {
      "cell_type": "markdown",
      "id": "db6a63bd-678d-4f8e-b575-7ccc12d4b66e",
      "metadata": {
        "id": "db6a63bd-678d-4f8e-b575-7ccc12d4b66e"
      },
      "source": [
        "Both model A and model B have smaller AIC and BIC than the null model. Model B has the smallest AIC and BIC and thus, based on both measures, we conclude that the data favors model B."
      ]
    },
    {
      "cell_type": "markdown",
      "id": "6435e40b",
      "metadata": {
        "id": "6435e40b"
      },
      "source": [
        "## Cross-validation\n",
        "\n",
        "The AIC and BIC are convenient because they are easy to compute, but they are just \"approximately good\". For large sample size, they work well, but for smaller sample size they may not accurately describe which model is better.\n",
        "\n",
        "Another approach for comparing models on experimental data while adjusting for model complexity is to test the model performance on datapoints that have not been used to train/fit the model (i.e. estimated the maximum-likelihood parameters). If a model with many parameters is overfitting, i.e. its parameters are adjusted to predict very well the datapoints it was trained on (it is fitting 'noise'), then its performance may decrease severely when testing the model with the same parameters but on a new dataset.\n",
        "\n",
        "How this is done in practice is using **cross-validation**, where the dataset is chunked in pieces (or folds), where each piece alternatively takes the role of the training and test dataset. The most standard form of cross-validation is K-fold cross-validation, where K describes the number of folds in which the data is split. The log-likelihood of cross-validated data is described as \"Cross-Validated Log-Likelihood\" (**CVLL**).\n",
        "\n",
        "In general, the larger is K, the more robust your measure is. The extreme case is **leave-one-out cross-validation** (LOOCV) where basically you split the datasets in sets of just one observation (trials); then on each fold you fit all your dataset on all the dataset but one observation and test it on this single heldout observation. So LOOCV is like K-fold CV where K equals the number of observations. However, by increasing K, you also increase the computational complexity as you need to fit the model over and over, so things can get slow.\n",
        "\n",
        "Cross-validation is a robust method for choosing the best statistical model for a certain dataset. It does not suffer the same limitations as AIC/BIC, and can be used for other metrics than the log-likelihood such as the mean squared error or the classification accuracy. This it can be used also for complex methods when the likelihood cannot be evaluated.\n",
        "This is why **cross-validation is the standard method in machine learning** to compare the performance of any type of models (deep networks, auto-encoders, SVMs, etc.).\n",
        "\n"
      ]
    },
    {
      "cell_type": "markdown",
      "id": "5a6798af-89b5-4c52-95ab-2f851bbd0b59",
      "metadata": {
        "id": "5a6798af-89b5-4c52-95ab-2f851bbd0b59"
      },
      "source": [
        "In this code, we split the data into 10 subsets using `Kfold` (from `sklearn.model_selection`). `KFold` handles cross-validation subset splitting and train/test assignment.  In particular, the `Kfold.split` method returns an iterator which we can loop through. On each loop, this iterator assigns a different subset as validation and returns new training and validation indices with which to split the data.\n",
        "\n",
        "**We will loop through the 10 train/validation splits and on each split compute the log-likelihood of both models on the test set. Then we will average the CVLL over splits.**"
      ]
    },
    {
      "cell_type": "code",
      "execution_count": 7,
      "id": "63ab255c-ad58-43db-a1c9-0f44b5aed70a",
      "metadata": {
        "id": "63ab255c-ad58-43db-a1c9-0f44b5aed70a"
      },
      "outputs": [],
      "source": [
        "# Perform K-fold cross-validation to compute Cross-Validated Log-Likelihood (CVLL)\n",
        "from sklearn.model_selection import KFold\n",
        "\n",
        "# Number of folds for cross-validation\n",
        "K = 10\n",
        "kf = KFold(n_splits=K)"
      ]
    },
    {
      "cell_type": "markdown",
      "id": "43603bb4-ffd2-4b8c-89ab-6c18a8ed0934",
      "metadata": {
        "id": "43603bb4-ffd2-4b8c-89ab-6c18a8ed0934"
      },
      "source": [
        "**Apply K-fold validation on the dataset to compute the CVLL for the null model and model A and B.**"
      ]
    },
    {
      "cell_type": "code",
      "execution_count": 8,
      "id": "67dfdaf6-f327-4869-8c61-e3ab8ab7da49",
      "metadata": {
        "id": "67dfdaf6-f327-4869-8c61-e3ab8ab7da49"
      },
      "outputs": [],
      "source": [
        "# Initialize arrays to store Cross-Validated Log-Likelihoods (CVLL) for each model\n",
        "model0_CVLL = np.empty((0))\n",
        "modelA_CVLL = np.empty((0))\n",
        "modelB_CVLL = np.empty((0))\n",
        "\n",
        "# Perform K-fold cross-validation\n",
        "for i, (train_index, test_index) in enumerate(kf.split(data)):\n",
        "    df_train = data.iloc[train_index]  # Training data\n",
        "    df_test = data.iloc[test_index]  # Test data\n",
        "\n",
        "    # Fit and compute CVLL for the null model\n",
        "    pp, _, _, _ = fit_model0(df_train)\n",
        "    model0_CVLL = np.append(model0_CVLL, LogLikelihood_modelB(df_test, pp[0], 0))\n",
        "\n",
        "    # Fit and compute CVLL for Model A\n",
        "    ppA, _, _, _ = fit_modelA(df_train)\n",
        "    modelA_CVLL = np.append(modelA_CVLL, LogLikelihood_modelA(df_test, ppA[0], ppA[1]))\n",
        "\n",
        "    # Fit and compute CVLL for Model B\n",
        "    ppB, _, _, _ = fit_modelB(df_train)\n",
        "    modelB_CVLL = np.append(modelB_CVLL, LogLikelihood_modelB(df_test, ppB[0], ppB[1]))\n",
        "\n",
        "# Compute average CVLL across all folds for each model\n",
        "model0_avg_CVLL = np.mean(model0_CVLL)\n",
        "modelA_avg_CVLL = np.mean(modelA_CVLL)\n",
        "modelB_avg_CVLL = np.mean(modelB_CVLL)"
      ]
    },
    {
      "cell_type": "markdown",
      "id": "77411a7f-047b-45c3-bcc6-ed2b9eda0bd5",
      "metadata": {
        "id": "77411a7f-047b-45c3-bcc6-ed2b9eda0bd5"
      },
      "source": [
        "**Show the results obtained for the CVLL.** What do you conclude?"
      ]
    },
    {
      "cell_type": "code",
      "execution_count": 9,
      "id": "8ff02761-c702-4aab-b901-73ed1a4c0e77",
      "metadata": {
        "id": "8ff02761-c702-4aab-b901-73ed1a4c0e77",
        "outputId": "652285c6-3b8a-41cf-dfe4-e6a0e9dc133b",
        "colab": {
          "base_uri": "https://localhost:8080/",
          "height": 430
        }
      },
      "outputs": [
        {
          "output_type": "display_data",
          "data": {
            "text/plain": [
              "<Figure size 640x480 with 1 Axes>"
            ],
            "image/png": "[encoded data removed]"
          },
          "metadata": {}
        }
      ],
      "source": [
        "# Visualize the CVLL results\n",
        "plt.bar(['model A', 'model B'], [modelA_avg_CVLL - model0_avg_CVLL, modelB_avg_CVLL - model0_avg_CVLL])\n",
        "plt.ylabel('CVLL relative to null model')\n",
        "plt.show()"
      ]
    },
    {
      "cell_type": "markdown",
      "id": "a1512d60-ffd2-4ac2-adaa-99938e4b7c34",
      "metadata": {
        "id": "a1512d60-ffd2-4ac2-adaa-99938e4b7c34"
      },
      "source": [
        "Model B has the highest cross-validated likelihood, though the difference between model A and B is rather small."
      ]
    },
    {
      "cell_type": "markdown",
      "id": "89c72199",
      "metadata": {
        "id": "89c72199"
      },
      "source": [
        "# III.2. Model recovery"
      ]
    },
    {
      "cell_type": "markdown",
      "id": "14129e7e-b3b7-4302-bd63-0a41c7bdf20e",
      "metadata": {
        "id": "14129e7e-b3b7-4302-bd63-0a41c7bdf20e"
      },
      "source": [
        "To illustrate model recovery, here we will simulate behavior of three models: the null model, model A and model B.\n",
        "\n",
        "For each simulation, model parameters should be sampled randomly for each model.\n",
        "\n",
        "Each simulated data set will then be fit to each of the given models, to determine which model fit best (according to BIC). This process will be repeated 100 times (number of \"repetitions\" or \"counts\") to compute the confusion matrix."
      ]
    },
    {
      "cell_type": "markdown",
      "id": "76493104-47b5-4063-9b74-f7fd5815d7be",
      "metadata": {
        "id": "76493104-47b5-4063-9b74-f7fd5815d7be"
      },
      "source": [
        "## Confusion matrix"
      ]
    },
    {
      "cell_type": "markdown",
      "id": "cfba2bf7-f86a-469b-a0c1-e4f7cffd97d2",
      "metadata": {
        "id": "cfba2bf7-f86a-469b-a0c1-e4f7cffd97d2"
      },
      "source": [
        "Let's build a confusion matrix. It quantifies the probability that each model is the best fit to data generated from the other models. In a perfect world the confusion matrix will be the identity matrix, but in practice this is not always the case.\n",
        "\n",
        "How to read the confusion matrix? Given a winning model (a particular column), it tells you the likelihood of each ground-truth model (each row) to have generated the data (basically, the columns are more important than the rows).\n",
        "\n",
        "As pointed out in the lecture, it is crucial to choose the simulation parameters in the range of the fitted parameters. This is easy in this exercise because we know the true parameters. In practise we need to rely on our prior knowledge.\n",
        "\n",
        "**Complete the following code.**"
      ]
    },
    {
      "cell_type": "code",
      "execution_count": 10,
      "id": "b7fc68c1-bc73-4d33-a2d3-cd10393d9de9",
      "metadata": {
        "id": "b7fc68c1-bc73-4d33-a2d3-cd10393d9de9"
      },
      "outputs": [],
      "source": [
        "# Define a list of fitting functions for the three models\n",
        "fitting_functions = [fit_model0, fit_modelA, fit_modelB]\n",
        "\n",
        "# Initialize the confusion matrix (3x3 for our 3 models)\n",
        "confusion_matrix = np.zeros((len(fitting_functions), len(fitting_functions)))\n",
        "\n",
        "# Define the number of repetitions for simulation and model fitting\n",
        "Ncounts = 100  # Increase to 100 for more accuracy\n",
        "\n",
        "for i in range(Ncounts):\n",
        "    # Simulate data for Model 0 (null model) with sigma=1, Lambda=0\n",
        "    r_sim = simulate_modelB(s, c, sigma_d=1, Lambda=0)\n",
        "    data_sim = pd.DataFrame({'stimulus': s, 'condition': c, 'response': r_sim})\n",
        "\n",
        "    # Fit the simulated data using all models and record the best-fitting model\n",
        "    LLHs = []\n",
        "    for fit_function in fitting_functions:\n",
        "        _, LLH, _, _ = fit_function(data_sim)\n",
        "        LLHs.append(LLH)\n",
        "\n",
        "    # Update confusion matrix (simulated with Model 0, fitted with best model)\n",
        "    confusion_matrix[0, np.argmax(LLHs)] += 1\n",
        "\n",
        "    # Repeat the process for Model A (simulate and fit)\n",
        "    r_sim = simulate_modelA(s, c, sigma_d=1, sigma_m=0.5)\n",
        "    data_sim = pd.DataFrame({'stimulus': s, 'condition': c, 'response': r_sim})\n",
        "    LLHs = []\n",
        "    for fit_function in fitting_functions:\n",
        "        _, LLH, _, _ = fit_function(data_sim)\n",
        "        LLHs.append(LLH)\n",
        "    confusion_matrix[1, np.argmax(LLHs)] += 1\n",
        "\n",
        "    # Repeat the process for Model B (simulate and fit)\n",
        "    r_sim = simulate_modelB(s, c, sigma_d=1, Lambda=0.2)\n",
        "    data_sim = pd.DataFrame({'stimulus': s, 'condition': c, 'response': r_sim})\n",
        "    LLHs = []\n",
        "    for fit_function in fitting_functions:\n",
        "        _, LLH, _, _ = fit_function(data_sim)\n",
        "        LLHs.append(LLH)\n",
        "    confusion_matrix[2, np.argmax(LLHs)] += 1"
      ]
    },
    {
      "cell_type": "markdown",
      "id": "6eb0879e-b736-4f52-9a54-2b2e9effce16",
      "metadata": {
        "id": "6eb0879e-b736-4f52-9a54-2b2e9effce16"
      },
      "source": [
        "**Now, we normalize the confusion matrix and visualize it.**"
      ]
    },
    {
      "cell_type": "code",
      "execution_count": 12,
      "id": "13667153-8699-4cee-8dec-e8acdc7c6cec",
      "metadata": {
        "id": "13667153-8699-4cee-8dec-e8acdc7c6cec",
        "outputId": "f38d2d78-84e4-4a87-9591-084006c5b968",
        "colab": {
          "base_uri": "https://localhost:8080/",
          "height": 402
        }
      },
      "outputs": [
        {
          "output_type": "stream",
          "name": "stdout",
          "text": [
            "[[0.   0.81 0.19]\n",
            " [0.   1.   0.  ]\n",
            " [0.   0.03 0.97]]\n"
          ]
        },
        {
          "output_type": "display_data",
          "data": {
            "text/plain": [
              "<Figure size 400x400 with 2 Axes>"
            ],
            "image/png": "[encoded data removed]"
          },
          "metadata": {}
        }
      ],
      "source": [
        "# Normalize confusion matrix\n",
        "confusion_matrix_norm = np.array([row/Ncounts for row in confusion_matrix])\n",
        "\n",
        "# Plot and print the normalized confusion matrix\n",
        "print(confusion_matrix_norm)\n",
        "\n",
        "plt.figure(figsize=(4,4))\n",
        "plt.imshow(confusion_matrix_norm, vmin=0, vmax=1, cmap='magma')\n",
        "plt.colorbar(shrink=0.8)\n",
        "\n",
        "# Add text annotations for each square\n",
        "for i in range(confusion_matrix_norm.shape[0]):\n",
        "    for j in range(confusion_matrix_norm.shape[1]):\n",
        "        plt.text(j, i, f\"{confusion_matrix_norm[i, j]:.2f}\", ha=\"center\", va=\"center\", color=\"white\")\n",
        "\n",
        "plt.xlabel('Fitted model')\n",
        "plt.ylabel('Simulated model')\n",
        "plt.xticks([0, 1, 2], [\"0\", \"A\", \"B\"])\n",
        "plt.yticks([0, 1, 2], [\"0\", \"A\", \"B\"])\n",
        "plt.title(\"Confusion Matrix (Normalized)\")\n",
        "plt.show()\n"
      ]
    },
    {
      "cell_type": "markdown",
      "id": "212227e9-56ad-4643-ac0a-98911a30b8bc",
      "metadata": {
        "id": "212227e9-56ad-4643-ac0a-98911a30b8bc"
      },
      "source": [
        "- Does your confusion matrix have large off-diagonal components? If so, this indicates that you have a problem with model recovery.\n",
        "\n",
        "- How do changes in the generating parameters affect the confusion matrix?\n",
        "\n",
        "You can observe that the confusion matrix can be so dependent on the simulating parameter values means that it is crucial to match the simulation parameters to the actual fit parameters of your actual behavioral data (when you have some) as best as possible. Models that are identifiable in one parameter regime may be impossible to distinguish in another regime.\n",
        "\n",
        "A final note to remember: As with all model comparisons, it only tells you which model fits best of the models you considered. In and of itself, this is rather limited information as there are infinitely many other models that you did not consider. This makes it imperative to start with a good set of models initially, that rigorously capture the competing hypotheses."
      ]
    },
    {
      "cell_type": "markdown",
      "id": "03257c62-d627-4b0c-8a1e-515d058a2de2",
      "metadata": {
        "id": "03257c62-d627-4b0c-8a1e-515d058a2de2"
      },
      "source": [
        "## Inversion matrix"
      ]
    },
    {
      "cell_type": "markdown",
      "id": "e368f4d3-2230-4925-b72f-40e3de9573dd",
      "metadata": {
        "id": "e368f4d3-2230-4925-b72f-40e3de9573dd"
      },
      "source": [
        "Can you arbitrate between different models? The inversion matrix is usful for this purpose. It is defined as\n",
        "$p(simulated model | fit model)$, the probability that data best fit by one model were actually\n",
        "generated from another model. This can be readily computed from the\n",
        "confusion matrix, $p(fit model | simulated model)$, by Bayes rule.\n",
        "\n",
        "For a uniform prior on models, computing the inversion matrix amounts to renormalizing\n",
        "the confusion matrix over the simulated models.\n"
      ]
    },
    {
      "cell_type": "code",
      "execution_count": 13,
      "id": "4d822115-9c52-489d-9576-429bdec60776",
      "metadata": {
        "id": "4d822115-9c52-489d-9576-429bdec60776",
        "outputId": "5299f5e4-de3d-482b-9daa-0d8c93e34a54",
        "colab": {
          "base_uri": "https://localhost:8080/",
          "height": 402
        }
      },
      "outputs": [
        {
          "output_type": "stream",
          "name": "stdout",
          "text": [
            "[[0.   0.81 0.19]\n",
            " [0.   1.   0.  ]\n",
            " [0.   0.03 0.97]]\n"
          ]
        },
        {
          "output_type": "display_data",
          "data": {
            "text/plain": [
              "<Figure size 400x400 with 2 Axes>"
            ],
            "image/png": "[encoded data removed]"
          },
          "metadata": {}
        }
      ],
      "source": [
        "# Compute inversion matrix by normalizing the confusion matrix over simulated models (rows)\n",
        "inversion_matrix = confusion_matrix / confusion_matrix.sum(axis=1, keepdims=True)\n",
        "\n",
        "# Plot and print the inversion matrix\n",
        "print(inversion_matrix)\n",
        "\n",
        "plt.figure(figsize=(4,4))\n",
        "plt.imshow(inversion_matrix, vmin=0, vmax=1, cmap='magma')\n",
        "plt.colorbar(shrink=0.8)\n",
        "\n",
        "# Add text annotations for each square\n",
        "for i in range(inversion_matrix.shape[0]):\n",
        "    for j in range(inversion_matrix.shape[1]):\n",
        "        plt.text(j, i, f\"{inversion_matrix[i, j]:.2f}\", ha=\"center\", va=\"center\", color=\"white\")\n",
        "\n",
        "plt.xlabel('Fitted model')\n",
        "plt.ylabel('Simulated model')\n",
        "plt.xticks([0, 1, 2], [\"0\", \"A\", \"B\"])\n",
        "plt.yticks([0, 1, 2], [\"0\", \"A\", \"B\"])\n",
        "plt.title(\"Inversion Matrix (Normalized)\")\n",
        "plt.show()\n"
      ]
    },
    {
      "cell_type": "code",
      "execution_count": null,
      "id": "bb1fd9cb-d01b-4557-89e3-dc6d263c4662",
      "metadata": {
        "id": "bb1fd9cb-d01b-4557-89e3-dc6d263c4662"
      },
      "outputs": [],
      "source": []
    }
  ],
  "metadata": {
    "kernelspec": {
      "display_name": "Python 3 (ipykernel)",
      "language": "python",
      "name": "python3"
    },
    "language_info": {
      "codemirror_mode": {
        "name": "ipython",
        "version": 3
      },
      "file_extension": ".py",
      "mimetype": "text/x-python",
      "name": "python",
      "nbconvert_exporter": "python",
      "pygments_lexer": "ipython3",
      "version": "3.9.13"
    },
    "colab": {
      "provenance": []
    }
  },
  "nbformat": 4,
  "nbformat_minor": 5
}