{
  "cells": [
    {
      "cell_type": "markdown",
      "id": "255c348a",
      "metadata": {
        "id": "255c348a"
      },
      "source": [
        "# Cognitive Modelling - Tutorial 1 - Part 1\n",
        "Anne Urai, 2024\n",
        "Thanks to Alexandre Hyafil, BAMB 2024"
      ]
    },
    {
      "cell_type": "markdown",
      "id": "1ea8e4da",
      "metadata": {
        "id": "1ea8e4da"
      },
      "source": [
        "# Introduction\n",
        "\n",
        "<font color='blue'>\n",
        "In this tutorial, we will cover all the steps involved in modelling behavioral data, from formalizing your hypotheses into a computational model to comparing which model is best supported by the data, using a toy example from a sensory discrimination task. The idea is to map all the types of analyses we may want to perform on behavioral data, before we address in the following days how to perform these analyses for more complex models. More specifically we will cover\n",
        "\n",
        "- **Model definition**: from box diagram to a statistical description\n",
        "- **Model simulation**: to understand how the model behaves\n",
        "- **Model estimation**: fitting model parameters to a behavioral dataset, and assessing the uncertainty about these parameter estimates\n",
        "- **Model validation**: checking whether a fitted model reproduces the key qualitative features of the dataset\n",
        "- **Model comparison**: comparing which model better accounts for experimental data\n",
        "- **Model and parameter recovery**: estimating how well we can estimate model parameters or discriminate between models using a particular behavioral paradigm\n",
        "\n",
        "In this first part of the tutorial, we will cover model definition, simulation and estimation.\n",
        "\n",
        "Our behavioral dataset corresponds to a standard two-alternative forced-choice task, where on each trial subjects have to report on the direction of motion of a stimulus with a binary response (left or right). The stimulus strength (or stimulus evidence) is varied across trial. Crucially, in a random subset of trials, brain area X is deactivated (through optogenetics/TMS), leading to a decrease in task performance. Our data is thus composed of one dependent variable (choice $r$, binary, say L/R) and two dependent variables:\n",
        "- stimulus evidence $s$ (signed, distributed between 9 values)\n",
        "- condition $c$ (binary, 'default' or 'manipulation')\n",
        "\n",
        "Here's the question we want to address with our modelling exercice: **is the deactivation affecting stimulus processing or purely decision-making abilities?** In the latter case, deactivating brain area X would not cause any change in stimulus processing, but would promote random responses unrelated to the sensory percept (i.e. 'lapses') in a subset of trials.</font>"
      ]
    },
    {
      "cell_type": "markdown",
      "id": "3f8d9564",
      "metadata": {
        "id": "3f8d9564"
      },
      "source": [
        "## Summary statistics: the psychometric curve\n",
        "Before starting to define our models, we need to specify what characteristics of the experimental data we expect them to capture. This often corresponds to summary statistics, i.e. the average value of the behavioral variable in different sets of trials (different experimental conditions). In the case of sensory tasks with binary choices, we usually extract the **psychometric curve**, corresponding to the proportion of rightward choices as a function of stimulus evidence. We plot the psychometric curve below, separately for control trials and deactivation trials. This change of the relationship between stimulus and choice is precisely what we expect our model to capture."
      ]
    },
    {
      "cell_type": "code",
      "execution_count": null,
      "id": "bdfc5c8a",
      "metadata": {
        "id": "bdfc5c8a"
      },
      "outputs": [],
      "source": [
        "# Import relevant libraries\n",
        "import numpy as np  # for numerical operations\n",
        "import pandas as pd  # for handling data structures\n",
        "import matplotlib.pyplot as plt  # for plotting graphs\n",
        "from scipy.stats import norm  # for statistical distributions\n",
        "import scipy.optimize as optimize  # for optimization tasks\n",
        "import ipywidgets as widgets  # for interactive widgets in Jupyter Notebooks"
      ]
    },
    {
      "cell_type": "code",
      "execution_count": null,
      "id": "e76edaa0",
      "metadata": {
        "id": "e76edaa0",
        "outputId": "ea152a0c-6325-4fea-a8c6-7280766b1a9a",
        "colab": {
          "base_uri": "https://localhost:8080/",
          "height": 206
        }
      },
      "outputs": [
        {
          "output_type": "execute_result",
          "data": {
            "text/plain": [
              "   Unnamed: 0  stimulus     condition  response\n",
              "0           0       0.0  manipulation         0\n",
              "1           1      -2.0  manipulation         0\n",
              "2           2       3.0       control         1\n",
              "3           3       2.0       control         1\n",
              "4           4       1.0       control         1"
            ],
            "text/html": [
              "\n",
              "  <div id=\"df-6d2c8225-1f27-4e15-9791-c289a7e4cb3b\" class=\"colab-df-container\">\n",
              "    <div>\n",
              "<style scoped>\n",
              "    .dataframe tbody tr th:only-of-type {\n",
              "        vertical-align: middle;\n",
              "    }\n",
              "\n",
              "    .dataframe tbody tr th {\n",
              "        vertical-align: top;\n",
              "    }\n",
              "\n",
              "    .dataframe thead th {\n",
              "        text-align: right;\n",
              "    }\n",
              "</style>\n",
              "<table border=\"1\" class=\"dataframe\">\n",
              "  <thead>\n",
              "    <tr style=\"text-align: right;\">\n",
              "      <th></th>\n",
              "      <th>Unnamed: 0</th>\n",
              "      <th>stimulus</th>\n",
              "      <th>condition</th>\n",
              "      <th>response</th>\n",
              "    </tr>\n",
              "  </thead>\n",
              "  <tbody>\n",
              "    <tr>\n",
              "      <th>0</th>\n",
              "      <td>0</td>\n",
              "      <td>0.0</td>\n",
              "      <td>manipulation</td>\n",
              "      <td>0</td>\n",
              "    </tr>\n",
              "    <tr>\n",
              "      <th>1</th>\n",
              "      <td>1</td>\n",
              "      <td>-2.0</td>\n",
              "      <td>manipulation</td>\n",
              "      <td>0</td>\n",
              "    </tr>\n",
              "    <tr>\n",
              "      <th>2</th>\n",
              "      <td>2</td>\n",
              "      <td>3.0</td>\n",
              "      <td>control</td>\n",
              "      <td>1</td>\n",
              "    </tr>\n",
              "    <tr>\n",
              "      <th>3</th>\n",
              "      <td>3</td>\n",
              "      <td>2.0</td>\n",
              "      <td>control</td>\n",
              "      <td>1</td>\n",
              "    </tr>\n",
              "    <tr>\n",
              "      <th>4</th>\n",
              "      <td>4</td>\n",
              "      <td>1.0</td>\n",
              "      <td>control</td>\n",
              "      <td>1</td>\n",
              "    </tr>\n",
              "  </tbody>\n",
              "</table>\n",
              "</div>\n",
              "    <div class=\"colab-df-buttons\">\n",
              "\n",
              "  <div class=\"colab-df-container\">\n",
              "    <button class=\"colab-df-convert\" onclick=\"convertToInteractive('df-6d2c8225-1f27-4e15-9791-c289a7e4cb3b')\"\n",
              "            title=\"Convert this dataframe to an interactive table.\"\n",
              "            style=\"display:none;\">\n",
              "\n",
              "  <svg xmlns=\"http://www.w3.org/2000/svg\" height=\"24px\" viewBox=\"0 -960 960 960\">\n",
              "    <path d=\"M120-120v-720h720v720H120Zm60-500h600v-160H180v160Zm220 220h160v-160H400v160Zm0 220h160v-160H400v160ZM180-400h160v-160H180v160Zm440 0h160v-160H620v160ZM180-180h160v-160H180v160Zm440 0h160v-160H620v160Z\"/>\n",
              "  </svg>\n",
              "    </button>\n",
              "\n",
              "  <style>\n",
              "    .colab-df-container {\n",
              "      display:flex;\n",
              "      gap: 12px;\n",
              "    }\n",
              "\n",
              "    .colab-df-convert {\n",
              "      background-color: #E8F0FE;\n",
              "      border: none;\n",
              "      border-radius: 50%;\n",
              "      cursor: pointer;\n",
              "      display: none;\n",
              "      fill: #1967D2;\n",
              "      height: 32px;\n",
              "      padding: 0 0 0 0;\n",
              "      width: 32px;\n",
              "    }\n",
              "\n",
              "    .colab-df-convert:hover {\n",
              "      background-color: #E2EBFA;\n",
              "      box-shadow: 0px 1px 2px rgba(60, 64, 67, 0.3), 0px 1px 3px 1px rgba(60, 64, 67, 0.15);\n",
              "      fill: #174EA6;\n",
              "    }\n",
              "\n",
              "    .colab-df-buttons div {\n",
              "      margin-bottom: 4px;\n",
              "    }\n",
              "\n",
              "    [theme=dark] .colab-df-convert {\n",
              "      background-color: #3B4455;\n",
              "      fill: #D2E3FC;\n",
              "    }\n",
              "\n",
              "    [theme=dark] .colab-df-convert:hover {\n",
              "      background-color: #434B5C;\n",
              "      box-shadow: 0px 1px 3px 1px rgba(0, 0, 0, 0.15);\n",
              "      filter: drop-shadow(0px 1px 2px rgba(0, 0, 0, 0.3));\n",
              "      fill: #FFFFFF;\n",
              "    }\n",
              "  </style>\n",
              "\n",
              "    <script>\n",
              "      const buttonEl =\n",
              "        document.querySelector('#df-6d2c8225-1f27-4e15-9791-c289a7e4cb3b button.colab-df-convert');\n",
              "      buttonEl.style.display =\n",
              "        google.colab.kernel.accessAllowed ? 'block' : 'none';\n",
              "\n",
              "      async function convertToInteractive(key) {\n",
              "        const element = document.querySelector('#df-6d2c8225-1f27-4e15-9791-c289a7e4cb3b');\n",
              "        const dataTable =\n",
              "          await google.colab.kernel.invokeFunction('convertToInteractive',\n",
              "                                                    [key], {});\n",
              "        if (!dataTable) return;\n",
              "\n",
              "        const docLinkHtml = 'Like what you see? Visit the ' +\n",
              "          '<a target=\"_blank\" href=https://colab.research.google.com/notebooks/data_table.ipynb>data table notebook</a>'\n",
              "          + ' to learn more about interactive tables.';\n",
              "        element.innerHTML = '';\n",
              "        dataTable['output_type'] = 'display_data';\n",
              "        await google.colab.output.renderOutput(dataTable, element);\n",
              "        const docLink = document.createElement('div');\n",
              "        docLink.innerHTML = docLinkHtml;\n",
              "        element.appendChild(docLink);\n",
              "      }\n",
              "    </script>\n",
              "  </div>\n",
              "\n",
              "\n",
              "<div id=\"df-0c45be6b-5048-4a18-bbc6-0bda3631b6b2\">\n",
              "  <button class=\"colab-df-quickchart\" onclick=\"quickchart('df-0c45be6b-5048-4a18-bbc6-0bda3631b6b2')\"\n",
              "            title=\"Suggest charts\"\n",
              "            style=\"display:none;\">\n",
              "\n",
              "<svg xmlns=\"http://www.w3.org/2000/svg\" height=\"24px\"viewBox=\"0 0 24 24\"\n",
              "     width=\"24px\">\n",
              "    <g>\n",
              "        <path d=\"M19 3H5c-1.1 0-2 .9-2 2v14c0 1.1.9 2 2 2h14c1.1 0 2-.9 2-2V5c0-1.1-.9-2-2-2zM9 17H7v-7h2v7zm4 0h-2V7h2v10zm4 0h-2v-4h2v4z\"/>\n",
              "    </g>\n",
              "</svg>\n",
              "  </button>\n",
              "\n",
              "<style>\n",
              "  .colab-df-quickchart {\n",
              "      --bg-color: #E8F0FE;\n",
              "      --fill-color: #1967D2;\n",
              "      --hover-bg-color: #E2EBFA;\n",
              "      --hover-fill-color: #174EA6;\n",
              "      --disabled-fill-color: #AAA;\n",
              "      --disabled-bg-color: #DDD;\n",
              "  }\n",
              "\n",
              "  [theme=dark] .colab-df-quickchart {\n",
              "      --bg-color: #3B4455;\n",
              "      --fill-color: #D2E3FC;\n",
              "      --hover-bg-color: #434B5C;\n",
              "      --hover-fill-color: #FFFFFF;\n",
              "      --disabled-bg-color: #3B4455;\n",
              "      --disabled-fill-color: #666;\n",
              "  }\n",
              "\n",
              "  .colab-df-quickchart {\n",
              "    background-color: var(--bg-color);\n",
              "    border: none;\n",
              "    border-radius: 50%;\n",
              "    cursor: pointer;\n",
              "    display: none;\n",
              "    fill: var(--fill-color);\n",
              "    height: 32px;\n",
              "    padding: 0;\n",
              "    width: 32px;\n",
              "  }\n",
              "\n",
              "  .colab-df-quickchart:hover {\n",
              "    background-color: var(--hover-bg-color);\n",
              "    box-shadow: 0 1px 2px rgba(60, 64, 67, 0.3), 0 1px 3px 1px rgba(60, 64, 67, 0.15);\n",
              "    fill: var(--button-hover-fill-color);\n",
              "  }\n",
              "\n",
              "  .colab-df-quickchart-complete:disabled,\n",
              "  .colab-df-quickchart-complete:disabled:hover {\n",
              "    background-color: var(--disabled-bg-color);\n",
              "    fill: var(--disabled-fill-color);\n",
              "    box-shadow: none;\n",
              "  }\n",
              "\n",
              "  .colab-df-spinner {\n",
              "    border: 2px solid var(--fill-color);\n",
              "    border-color: transparent;\n",
              "    border-bottom-color: var(--fill-color);\n",
              "    animation:\n",
              "      spin 1s steps(1) infinite;\n",
              "  }\n",
              "\n",
              "  @keyframes spin {\n",
              "    0% {\n",
              "      border-color: transparent;\n",
              "      border-bottom-color: var(--fill-color);\n",
              "      border-left-color: var(--fill-color);\n",
              "    }\n",
              "    20% {\n",
              "      border-color: transparent;\n",
              "      border-left-color: var(--fill-color);\n",
              "      border-top-color: var(--fill-color);\n",
              "    }\n",
              "    30% {\n",
              "      border-color: transparent;\n",
              "      border-left-color: var(--fill-color);\n",
              "      border-top-color: var(--fill-color);\n",
              "      border-right-color: var(--fill-color);\n",
              "    }\n",
              "    40% {\n",
              "      border-color: transparent;\n",
              "      border-right-color: var(--fill-color);\n",
              "      border-top-color: var(--fill-color);\n",
              "    }\n",
              "    60% {\n",
              "      border-color: transparent;\n",
              "      border-right-color: var(--fill-color);\n",
              "    }\n",
              "    80% {\n",
              "      border-color: transparent;\n",
              "      border-right-color: var(--fill-color);\n",
              "      border-bottom-color: var(--fill-color);\n",
              "    }\n",
              "    90% {\n",
              "      border-color: transparent;\n",
              "      border-bottom-color: var(--fill-color);\n",
              "    }\n",
              "  }\n",
              "</style>\n",
              "\n",
              "  <script>\n",
              "    async function quickchart(key) {\n",
              "      const quickchartButtonEl =\n",
              "        document.querySelector('#' + key + ' button');\n",
              "      quickchartButtonEl.disabled = true;  // To prevent multiple clicks.\n",
              "      quickchartButtonEl.classList.add('colab-df-spinner');\n",
              "      try {\n",
              "        const charts = await google.colab.kernel.invokeFunction(\n",
              "            'suggestCharts', [key], {});\n",
              "      } catch (error) {\n",
              "        console.error('Error during call to suggestCharts:', error);\n",
              "      }\n",
              "      quickchartButtonEl.classList.remove('colab-df-spinner');\n",
              "      quickchartButtonEl.classList.add('colab-df-quickchart-complete');\n",
              "    }\n",
              "    (() => {\n",
              "      let quickchartButtonEl =\n",
              "        document.querySelector('#df-0c45be6b-5048-4a18-bbc6-0bda3631b6b2 button');\n",
              "      quickchartButtonEl.style.display =\n",
              "        google.colab.kernel.accessAllowed ? 'block' : 'none';\n",
              "    })();\n",
              "  </script>\n",
              "</div>\n",
              "\n",
              "    </div>\n",
              "  </div>\n"
            ],
            "application/vnd.google.colaboratory.intrinsic+json": {
              "type": "dataframe",
              "variable_name": "df_exp",
              "summary": "{\n  \"name\": \"df_exp\",\n  \"rows\": 2500,\n  \"fields\": [\n    {\n      \"column\": \"Unnamed: 0\",\n      \"properties\": {\n        \"dtype\": \"number\",\n        \"std\": 721,\n        \"min\": 0,\n        \"max\": 2499,\n        \"num_unique_values\": 2500,\n        \"samples\": [\n          1447,\n          1114,\n          1064\n        ],\n        \"semantic_type\": \"\",\n        \"description\": \"\"\n      }\n    },\n    {\n      \"column\": \"stimulus\",\n      \"properties\": {\n        \"dtype\": \"number\",\n        \"std\": 1.7608544526341026,\n        \"min\": -3.0,\n        \"max\": 3.0,\n        \"num_unique_values\": 9,\n        \"samples\": [\n          -1.0,\n          -2.0,\n          -0.5\n        ],\n        \"semantic_type\": \"\",\n        \"description\": \"\"\n      }\n    },\n    {\n      \"column\": \"condition\",\n      \"properties\": {\n        \"dtype\": \"category\",\n        \"num_unique_values\": 2,\n        \"samples\": [\n          \"control\",\n          \"manipulation\"\n        ],\n        \"semantic_type\": \"\",\n        \"description\": \"\"\n      }\n    },\n    {\n      \"column\": \"response\",\n      \"properties\": {\n        \"dtype\": \"number\",\n        \"std\": 0,\n        \"min\": 0,\n        \"max\": 1,\n        \"num_unique_values\": 2,\n        \"samples\": [\n          1,\n          0\n        ],\n        \"semantic_type\": \"\",\n        \"description\": \"\"\n      }\n    }\n  ]\n}"
            }
          },
          "metadata": {},
          "execution_count": 2
        }
      ],
      "source": [
        "# Load the experimental dataset\n",
        "# The dataset contains the behavioral data from the two-alternative forced-choice task.\n",
        "df_exp = pd.read_csv(\"https://raw.githubusercontent.com/bambschool/BAMB2023/main/1-modeling_101/dataset_tutorial1.csv?token=GHSAT0AAAAAACFH2I2TUEKMMHZMREHILHOUZFXCWCA\")\n",
        "df_exp.head()  # display the first few rows to check the data structure"
      ]
    },
    {
      "cell_type": "code",
      "execution_count": null,
      "id": "378a5bf3",
      "metadata": {
        "id": "378a5bf3",
        "outputId": "13979f77-42c4-4120-e7c6-c3657ccbbe82",
        "colab": {
          "base_uri": "https://localhost:8080/",
          "height": 472
        }
      },
      "outputs": [
        {
          "output_type": "display_data",
          "data": {
            "text/plain": [
              "<Figure size 640x480 with 1 Axes>"
            ],
            "image/png": "[encoded data removed]"
          },
          "metadata": {}
        }
      ],
      "source": [
        "# Define a function to plot psychometric curves for control and manipulation trials\n",
        "def plot_data_psychometric(df):\n",
        "    \"\"\"\n",
        "    Plots the psychometric function separately for control and manipulation trials.\n",
        "\n",
        "    Args:\n",
        "       df (DataFrame): The experimental dataset with 'stimulus', 'response', and 'condition' columns.\n",
        "    \"\"\"\n",
        "    # Plot psychometric curve for control trials\n",
        "    mask = df.condition == 'control'  # filter for control trials\n",
        "    df[mask].groupby('stimulus').response.agg(('mean', 'sem')).plot(\n",
        "        yerr='sem', fmt='bo', ax=plt.gca(), legend=False\n",
        "    )  # 'bo' means blue circles for control\n",
        "\n",
        "    # Plot psychometric curve for manipulation trials\n",
        "    mask = df.condition == 'manipulation'  # filter for manipulation trials\n",
        "    df[mask].groupby('stimulus').response.agg(('mean', 'sem')).plot(\n",
        "        yerr='sem', fmt='ro', ax=plt.gca(), legend=False\n",
        "    )  # 'ro' means red circles for manipulation\n",
        "\n",
        "    # Add labels and title\n",
        "    plt.legend(('Control', 'Deactivation'))  # legend differentiates trial types\n",
        "    plt.xlabel('Stimulus Evidence')  # X-axis label\n",
        "    plt.ylabel('Proportion of Rightward Choices')  # Y-axis label\n",
        "    plt.title('Psychometric Curve - Experimental Data')  # Title\n",
        "\n",
        "# Plot the psychometric curve for the experimental dataset\n",
        "plot_data_psychometric(df_exp)"
      ]
    },
    {
      "cell_type": "markdown",
      "id": "4617d2b2",
      "metadata": {
        "id": "4617d2b2"
      },
      "source": [
        "# PART I\n",
        "\n",
        "In this first part of the tutorial, we will cover **three modelling steps: model definition, model simulations and model estimation**.\n",
        "\n",
        "# 1. Model definition\n",
        "<font color='blue'>\n",
        "We want to define two models, where each model embodies one of the two hypotheses:\n",
        "- **model A**: the manipulation affects stimulus processing\n",
        "- **model B**: the manipulation leads to a certain proportion of lapses\n",
        "\n",
        "Both of these models should take the stimulus evidence and experimental condition (*manipulation* vs. *control*) as input and output the binary choice.\n",
        "We will follow two successive steps in order to derive a complete statistical description for each of these models.\n",
        "\n",
        "\n",
        "## 1.1 Box diagram description\n",
        "\n",
        "First, for each of the two models, draw a box diagram describing how responses are produced and how the experimental manipulation interferes with this production, according to that model. Each diagram should feature boxes describing the causal interaction between the dependent and independent variables (the *observed variables*), and possibly other non-measured variables (the *unobserved variables* or *latent variables*). (Following conventions for Probabilistic Graphical Models, we can colour the observed variable in grey, and leave boxes for latent variables in white).\n",
        "</font>"
      ]
    },
    {
      "cell_type": "markdown",
      "id": "62ab5f3e",
      "metadata": {
        "id": "62ab5f3e"
      },
      "source": [
        "What other variables could we introduce?"
      ]
    },
    {
      "cell_type": "markdown",
      "id": "678ee2bd",
      "metadata": {
        "id": "678ee2bd"
      },
      "source": [
        "### Other variables\n",
        "\n",
        "\n",
        "\n",
        "\n",
        "\n",
        "Response time, if we measure response time this can give us new insights\n",
        "\n",
        "Expectation, prior expectations about the stimulus might bias the perceptual process for instance if the answer was 'left' three times in a row, the user might have a bias"
      ]
    },
    {
      "cell_type": "markdown",
      "id": "a42c4868",
      "metadata": {
        "id": "a42c4868"
      },
      "source": [
        "## 1.2 Statistical model: signal detection theory\n",
        "\n",
        "Now, in order to be fitted to actual data, we need a **statistical model of behavior**, whereby the modelled behavior (here binary choices) is a stochastic variable that depends on our dependent variables. Here, because the output is binary, each statistical model is described by an equation linking the probability for the binary response (say rightwards responses) as a function of the dependent variables (stimulus and manupulation). To do so, we need to formalize each model one step further by expliciting in our box diagram how each variable in a box is computed from the value of the other variables (through a deterministic or probabilistic relationship to the variables that influence it).\n",
        "\n",
        "We will use signal-detection theory (SDT) to turn each diagram into a statistical description. In SDT, the perceived stimulus evidence (or percept) is simply the value of the true stimulus evidence (set by the experimenter) corrupted by some gaussian noise:\n",
        "$\\hat s = s + \\epsilon$ where $\\epsilon$ is gaussian noise of variance $\\sigma^2$.\n",
        "The decision is taken from the position of $\\hat s$ w.r.t a threshold $T$. As the noise variance goes larger, the psychometric curve gets shallower and the accuracy of the model deteriorates.\n",
        "\n",
        "In model A, we assume different noise levels in the two conditions ($\\sigma^2_d$ and $\\sigma^2_m$), corresponding to different precisions of sensory encoding.\n",
        "In model B, we assume that the noise variance is not affected by the manipulation. However, in deactivation trials, with a probability $\\lambda$, the decision is not based on the stimulus but randomly drawn (with probability $q$ giving response R, probability $1-q$ giving response L).\n",
        "\n",
        "We now see the **parameter set $\\theta$** for each model:\n",
        "- $T$, $\\sigma^2_d$ and $\\sigma^2_m$ in model A\n",
        "- $T$, $\\sigma^2_d$, $\\lambda$ and $q$ in model B\n",
        "\n",
        "To simplify things, we will assume no particular bias between L and R responses, so $T=0$ and $q=0.5$. Note that in this case both models have only two free parameters, there are thus equated in terms of complexity.\n",
        "\n",
        "We will focus on model B for the sake of time. Adapting the analyses for model A is left as optional."
      ]
    },
    {
      "cell_type": "markdown",
      "id": "960fa56c",
      "metadata": {
        "id": "960fa56c"
      },
      "source": [
        "# PART I - 2. Model simulations\n",
        "\n",
        "## 2.1 Simulate\n",
        "\n",
        "Create a function that simulates models B. The function should take a list of stimulus and experimental conditions as input, and use the stochastic equations defined above to determine a simulated choice for each corresponding trial."
      ]
    },
    {
      "cell_type": "code",
      "execution_count": null,
      "id": "22d1d40d",
      "metadata": {
        "id": "22d1d40d"
      },
      "outputs": [],
      "source": [
        "# Define a function to simulate Model B (proportion of lapses due to manipulation)\n",
        "def simulate_modelB(s, c, sigma_d=1, Lambda=0.2, T=0, q=0.5):\n",
        "    \"\"\"\n",
        "    Simulates responses based on Model B, where manipulation leads to lapses.\n",
        "\n",
        "    Args:\n",
        "        s (array-like): Array of stimulus evidence values for each trial.\n",
        "        c (array-like): Array of conditions (1 = manipulation, 0 = control) for each trial.\n",
        "        sigma_d (float): Variance of the sensory noise.\n",
        "        Lambda (float): Probability of lapse occurring in manipulation trials.\n",
        "        T (float): Decision threshold (assumed to be 0).\n",
        "        q (float): Probability of choosing rightward response in lapse trials (assumed to be 0.5).\n",
        "\n",
        "    Returns:\n",
        "        array: Simulated binary choices (1 = rightward, 0 = leftward) for each trial.\n",
        "    \"\"\"\n",
        "    n = len(s)  # Number of trials\n",
        "\n",
        "    # Generate noisy percepts: true stimulus evidence corrupted by Gaussian noise\n",
        "    s_hat = s + np.random.normal(0, np.sqrt(sigma_d), size=n)\n",
        "\n",
        "    # Decision based on the noisy percept: if percept > threshold, choose rightward (1), else leftward (0)\n",
        "    r_stim = (s_hat > T).astype(int)\n",
        "\n",
        "    # Determine which trials are lapse trials (random responses occur only in manipulation trials)\n",
        "    isLapse = (np.random.rand(n) < Lambda) & (c == 1)  # Random response only if manipulation condition\n",
        "\n",
        "    # Generate random lapse responses: rightward or leftward with probability q or 1-q\n",
        "    r_lapse = np.random.choice([0, 1], p=[q, 1 - q], size=n)\n",
        "\n",
        "    # Final response: lapse response if it's a lapse trial, otherwise use stimulus-based response\n",
        "    r = np.where(isLapse, r_lapse, r_stim)\n",
        "\n",
        "    return r\n"
      ]
    },
    {
      "cell_type": "markdown",
      "id": "a9796dd7",
      "metadata": {
        "id": "a9796dd7"
      },
      "source": [
        "Use the function above to simulate model B (with model parameters defined below) on the same set of the trials as the experimental dataset.\n",
        "(Note: it is important to compare simulations with the exact same set of trials as the original dataset to facilitate comparison)"
      ]
    },
    {
      "cell_type": "code",
      "execution_count": null,
      "id": "fcecd5a2",
      "metadata": {
        "id": "fcecd5a2",
        "outputId": "6bf87c76-3310-4bdc-df90-0d27c70c59c5",
        "colab": {
          "base_uri": "https://localhost:8080/",
          "height": 206
        }
      },
      "outputs": [
        {
          "output_type": "execute_result",
          "data": {
            "text/plain": [
              "   stimulus  condition  response\n",
              "0       0.0          1         0\n",
              "1      -2.0          1         0\n",
              "2       3.0          0         1\n",
              "3       2.0          0         1\n",
              "4       1.0          0         1"
            ],
            "text/html": [
              "\n",
              "  <div id=\"df-b110891e-2e6c-499b-b6c7-9a251d0bda63\" class=\"colab-df-container\">\n",
              "    <div>\n",
              "<style scoped>\n",
              "    .dataframe tbody tr th:only-of-type {\n",
              "        vertical-align: middle;\n",
              "    }\n",
              "\n",
              "    .dataframe tbody tr th {\n",
              "        vertical-align: top;\n",
              "    }\n",
              "\n",
              "    .dataframe thead th {\n",
              "        text-align: right;\n",
              "    }\n",
              "</style>\n",
              "<table border=\"1\" class=\"dataframe\">\n",
              "  <thead>\n",
              "    <tr style=\"text-align: right;\">\n",
              "      <th></th>\n",
              "      <th>stimulus</th>\n",
              "      <th>condition</th>\n",
              "      <th>response</th>\n",
              "    </tr>\n",
              "  </thead>\n",
              "  <tbody>\n",
              "    <tr>\n",
              "      <th>0</th>\n",
              "      <td>0.0</td>\n",
              "      <td>1</td>\n",
              "      <td>0</td>\n",
              "    </tr>\n",
              "    <tr>\n",
              "      <th>1</th>\n",
              "      <td>-2.0</td>\n",
              "      <td>1</td>\n",
              "      <td>0</td>\n",
              "    </tr>\n",
              "    <tr>\n",
              "      <th>2</th>\n",
              "      <td>3.0</td>\n",
              "      <td>0</td>\n",
              "      <td>1</td>\n",
              "    </tr>\n",
              "    <tr>\n",
              "      <th>3</th>\n",
              "      <td>2.0</td>\n",
              "      <td>0</td>\n",
              "      <td>1</td>\n",
              "    </tr>\n",
              "    <tr>\n",
              "      <th>4</th>\n",
              "      <td>1.0</td>\n",
              "      <td>0</td>\n",
              "      <td>1</td>\n",
              "    </tr>\n",
              "  </tbody>\n",
              "</table>\n",
              "</div>\n",
              "    <div class=\"colab-df-buttons\">\n",
              "\n",
              "  <div class=\"colab-df-container\">\n",
              "    <button class=\"colab-df-convert\" onclick=\"convertToInteractive('df-b110891e-2e6c-499b-b6c7-9a251d0bda63')\"\n",
              "            title=\"Convert this dataframe to an interactive table.\"\n",
              "            style=\"display:none;\">\n",
              "\n",
              "  <svg xmlns=\"http://www.w3.org/2000/svg\" height=\"24px\" viewBox=\"0 -960 960 960\">\n",
              "    <path d=\"M120-120v-720h720v720H120Zm60-500h600v-160H180v160Zm220 220h160v-160H400v160Zm0 220h160v-160H400v160ZM180-400h160v-160H180v160Zm440 0h160v-160H620v160ZM180-180h160v-160H180v160Zm440 0h160v-160H620v160Z\"/>\n",
              "  </svg>\n",
              "    </button>\n",
              "\n",
              "  <style>\n",
              "    .colab-df-container {\n",
              "      display:flex;\n",
              "      gap: 12px;\n",
              "    }\n",
              "\n",
              "    .colab-df-convert {\n",
              "      background-color: #E8F0FE;\n",
              "      border: none;\n",
              "      border-radius: 50%;\n",
              "      cursor: pointer;\n",
              "      display: none;\n",
              "      fill: #1967D2;\n",
              "      height: 32px;\n",
              "      padding: 0 0 0 0;\n",
              "      width: 32px;\n",
              "    }\n",
              "\n",
              "    .colab-df-convert:hover {\n",
              "      background-color: #E2EBFA;\n",
              "      box-shadow: 0px 1px 2px rgba(60, 64, 67, 0.3), 0px 1px 3px 1px rgba(60, 64, 67, 0.15);\n",
              "      fill: #174EA6;\n",
              "    }\n",
              "\n",
              "    .colab-df-buttons div {\n",
              "      margin-bottom: 4px;\n",
              "    }\n",
              "\n",
              "    [theme=dark] .colab-df-convert {\n",
              "      background-color: #3B4455;\n",
              "      fill: #D2E3FC;\n",
              "    }\n",
              "\n",
              "    [theme=dark] .colab-df-convert:hover {\n",
              "      background-color: #434B5C;\n",
              "      box-shadow: 0px 1px 3px 1px rgba(0, 0, 0, 0.15);\n",
              "      filter: drop-shadow(0px 1px 2px rgba(0, 0, 0, 0.3));\n",
              "      fill: #FFFFFF;\n",
              "    }\n",
              "  </style>\n",
              "\n",
              "    <script>\n",
              "      const buttonEl =\n",
              "        document.querySelector('#df-b110891e-2e6c-499b-b6c7-9a251d0bda63 button.colab-df-convert');\n",
              "      buttonEl.style.display =\n",
              "        google.colab.kernel.accessAllowed ? 'block' : 'none';\n",
              "\n",
              "      async function convertToInteractive(key) {\n",
              "        const element = document.querySelector('#df-b110891e-2e6c-499b-b6c7-9a251d0bda63');\n",
              "        const dataTable =\n",
              "          await google.colab.kernel.invokeFunction('convertToInteractive',\n",
              "                                                    [key], {});\n",
              "        if (!dataTable) return;\n",
              "\n",
              "        const docLinkHtml = 'Like what you see? Visit the ' +\n",
              "          '<a target=\"_blank\" href=https://colab.research.google.com/notebooks/data_table.ipynb>data table notebook</a>'\n",
              "          + ' to learn more about interactive tables.';\n",
              "        element.innerHTML = '';\n",
              "        dataTable['output_type'] = 'display_data';\n",
              "        await google.colab.output.renderOutput(dataTable, element);\n",
              "        const docLink = document.createElement('div');\n",
              "        docLink.innerHTML = docLinkHtml;\n",
              "        element.appendChild(docLink);\n",
              "      }\n",
              "    </script>\n",
              "  </div>\n",
              "\n",
              "\n",
              "<div id=\"df-58c5164c-d6c8-47d5-95ab-e4c786c0b864\">\n",
              "  <button class=\"colab-df-quickchart\" onclick=\"quickchart('df-58c5164c-d6c8-47d5-95ab-e4c786c0b864')\"\n",
              "            title=\"Suggest charts\"\n",
              "            style=\"display:none;\">\n",
              "\n",
              "<svg xmlns=\"http://www.w3.org/2000/svg\" height=\"24px\"viewBox=\"0 0 24 24\"\n",
              "     width=\"24px\">\n",
              "    <g>\n",
              "        <path d=\"M19 3H5c-1.1 0-2 .9-2 2v14c0 1.1.9 2 2 2h14c1.1 0 2-.9 2-2V5c0-1.1-.9-2-2-2zM9 17H7v-7h2v7zm4 0h-2V7h2v10zm4 0h-2v-4h2v4z\"/>\n",
              "    </g>\n",
              "</svg>\n",
              "  </button>\n",
              "\n",
              "<style>\n",
              "  .colab-df-quickchart {\n",
              "      --bg-color: #E8F0FE;\n",
              "      --fill-color: #1967D2;\n",
              "      --hover-bg-color: #E2EBFA;\n",
              "      --hover-fill-color: #174EA6;\n",
              "      --disabled-fill-color: #AAA;\n",
              "      --disabled-bg-color: #DDD;\n",
              "  }\n",
              "\n",
              "  [theme=dark] .colab-df-quickchart {\n",
              "      --bg-color: #3B4455;\n",
              "      --fill-color: #D2E3FC;\n",
              "      --hover-bg-color: #434B5C;\n",
              "      --hover-fill-color: #FFFFFF;\n",
              "      --disabled-bg-color: #3B4455;\n",
              "      --disabled-fill-color: #666;\n",
              "  }\n",
              "\n",
              "  .colab-df-quickchart {\n",
              "    background-color: var(--bg-color);\n",
              "    border: none;\n",
              "    border-radius: 50%;\n",
              "    cursor: pointer;\n",
              "    display: none;\n",
              "    fill: var(--fill-color);\n",
              "    height: 32px;\n",
              "    padding: 0;\n",
              "    width: 32px;\n",
              "  }\n",
              "\n",
              "  .colab-df-quickchart:hover {\n",
              "    background-color: var(--hover-bg-color);\n",
              "    box-shadow: 0 1px 2px rgba(60, 64, 67, 0.3), 0 1px 3px 1px rgba(60, 64, 67, 0.15);\n",
              "    fill: var(--button-hover-fill-color);\n",
              "  }\n",
              "\n",
              "  .colab-df-quickchart-complete:disabled,\n",
              "  .colab-df-quickchart-complete:disabled:hover {\n",
              "    background-color: var(--disabled-bg-color);\n",
              "    fill: var(--disabled-fill-color);\n",
              "    box-shadow: none;\n",
              "  }\n",
              "\n",
              "  .colab-df-spinner {\n",
              "    border: 2px solid var(--fill-color);\n",
              "    border-color: transparent;\n",
              "    border-bottom-color: var(--fill-color);\n",
              "    animation:\n",
              "      spin 1s steps(1) infinite;\n",
              "  }\n",
              "\n",
              "  @keyframes spin {\n",
              "    0% {\n",
              "      border-color: transparent;\n",
              "      border-bottom-color: var(--fill-color);\n",
              "      border-left-color: var(--fill-color);\n",
              "    }\n",
              "    20% {\n",
              "      border-color: transparent;\n",
              "      border-left-color: var(--fill-color);\n",
              "      border-top-color: var(--fill-color);\n",
              "    }\n",
              "    30% {\n",
              "      border-color: transparent;\n",
              "      border-left-color: var(--fill-color);\n",
              "      border-top-color: var(--fill-color);\n",
              "      border-right-color: var(--fill-color);\n",
              "    }\n",
              "    40% {\n",
              "      border-color: transparent;\n",
              "      border-right-color: var(--fill-color);\n",
              "      border-top-color: var(--fill-color);\n",
              "    }\n",
              "    60% {\n",
              "      border-color: transparent;\n",
              "      border-right-color: var(--fill-color);\n",
              "    }\n",
              "    80% {\n",
              "      border-color: transparent;\n",
              "      border-right-color: var(--fill-color);\n",
              "      border-bottom-color: var(--fill-color);\n",
              "    }\n",
              "    90% {\n",
              "      border-color: transparent;\n",
              "      border-bottom-color: var(--fill-color);\n",
              "    }\n",
              "  }\n",
              "</style>\n",
              "\n",
              "  <script>\n",
              "    async function quickchart(key) {\n",
              "      const quickchartButtonEl =\n",
              "        document.querySelector('#' + key + ' button');\n",
              "      quickchartButtonEl.disabled = true;  // To prevent multiple clicks.\n",
              "      quickchartButtonEl.classList.add('colab-df-spinner');\n",
              "      try {\n",
              "        const charts = await google.colab.kernel.invokeFunction(\n",
              "            'suggestCharts', [key], {});\n",
              "      } catch (error) {\n",
              "        console.error('Error during call to suggestCharts:', error);\n",
              "      }\n",
              "      quickchartButtonEl.classList.remove('colab-df-spinner');\n",
              "      quickchartButtonEl.classList.add('colab-df-quickchart-complete');\n",
              "    }\n",
              "    (() => {\n",
              "      let quickchartButtonEl =\n",
              "        document.querySelector('#df-58c5164c-d6c8-47d5-95ab-e4c786c0b864 button');\n",
              "      quickchartButtonEl.style.display =\n",
              "        google.colab.kernel.accessAllowed ? 'block' : 'none';\n",
              "    })();\n",
              "  </script>\n",
              "</div>\n",
              "\n",
              "    </div>\n",
              "  </div>\n"
            ],
            "application/vnd.google.colaboratory.intrinsic+json": {
              "type": "dataframe",
              "variable_name": "df_modelB",
              "summary": "{\n  \"name\": \"df_modelB\",\n  \"rows\": 2500,\n  \"fields\": [\n    {\n      \"column\": \"stimulus\",\n      \"properties\": {\n        \"dtype\": \"number\",\n        \"std\": 1.7608544526341026,\n        \"min\": -3.0,\n        \"max\": 3.0,\n        \"num_unique_values\": 9,\n        \"samples\": [\n          -1.0,\n          -2.0,\n          -0.5\n        ],\n        \"semantic_type\": \"\",\n        \"description\": \"\"\n      }\n    },\n    {\n      \"column\": \"condition\",\n      \"properties\": {\n        \"dtype\": \"number\",\n        \"std\": 0,\n        \"min\": 0,\n        \"max\": 1,\n        \"num_unique_values\": 2,\n        \"samples\": [\n          0,\n          1\n        ],\n        \"semantic_type\": \"\",\n        \"description\": \"\"\n      }\n    },\n    {\n      \"column\": \"response\",\n      \"properties\": {\n        \"dtype\": \"number\",\n        \"std\": 0,\n        \"min\": 0,\n        \"max\": 1,\n        \"num_unique_values\": 2,\n        \"samples\": [\n          1,\n          0\n        ],\n        \"semantic_type\": \"\",\n        \"description\": \"\"\n      }\n    }\n  ]\n}"
            }
          },
          "metadata": {},
          "execution_count": 5
        }
      ],
      "source": [
        "# Define parameters for Model B\n",
        "T = 0  # Decision threshold\n",
        "sigma = 1  # Noise in sensory evidence\n",
        "Lambda = 0.2  # Proportion of lapses in manipulation trials\n",
        "q = 0.5  # Probability of rightward response in lapse trials\n",
        "\n",
        "# Extract stimulus evidence and condition from experimental dataset\n",
        "s = df_exp['stimulus'].values  # Array of stimulus evidence\n",
        "c = df_exp['condition'].map({'manipulation': 1, 'control': 0}).values  # Convert 'condition' to binary (1 = manipulation)\n",
        "\n",
        "# Simulate Model B using the same stimulus and condition as the experimental data\n",
        "r = simulate_modelB(s, c, sigma_d=sigma, Lambda=Lambda, T=T, q=q)\n",
        "\n",
        "# Create a new DataFrame to store the simulated responses\n",
        "df_modelB = pd.DataFrame({\n",
        "    'stimulus': s,\n",
        "    'condition': c,\n",
        "    'response': r\n",
        "})\n",
        "\n",
        "# Display the first few rows of the simulated data\n",
        "df_modelB.head()\n"
      ]
    },
    {
      "cell_type": "markdown",
      "id": "ec93a32d",
      "metadata": {
        "id": "ec93a32d"
      },
      "source": [
        "## 2.2 Simulated psychometric curve\n",
        "Now plot the psychometric curve, separately for each condition, for the data simulated from model B."
      ]
    },
    {
      "cell_type": "code",
      "execution_count": null,
      "id": "6ec62665",
      "metadata": {
        "id": "6ec62665",
        "outputId": "80d69d2a-7479-4de2-aed8-960aa8bd4af9",
        "colab": {
          "base_uri": "https://localhost:8080/",
          "height": 472
        }
      },
      "outputs": [
        {
          "output_type": "display_data",
          "data": {
            "text/plain": [
              "<Figure size 640x480 with 1 Axes>"
            ],
            "image/png": "[encoded data removed]"
          },
          "metadata": {}
        }
      ],
      "source": [
        "# Define a function to plot the psychometric curve for Model B\n",
        "def plot_psychometric_simulation(df):\n",
        "    \"\"\"\n",
        "    Plots the psychometric curve for control and manipulation trials based on simulated data.\n",
        "\n",
        "    Args:\n",
        "        df (dataframe): Simulated data.\n",
        "    \"\"\"\n",
        "    # Plot psychometric curve for control trials (condition = 0)\n",
        "    mask_control = df['condition'] == 0\n",
        "    df[mask_control].groupby('stimulus').response.mean().plot(marker='o', color='blue', label='Control')\n",
        "\n",
        "    # Plot psychometric curve for manipulation trials (condition = 1)\n",
        "    mask_manip = df['condition'] == 1\n",
        "    df[mask_manip].groupby('stimulus').response.mean().plot(marker='o', color='red', label='Manipulation')\n",
        "\n",
        "    plt.xlabel('Stimulus Evidence')\n",
        "    plt.ylabel('Proportion of Rightward Choices')\n",
        "    plt.legend()\n",
        "    plt.title('Model B Simulations')\n",
        "\n",
        "# Plot the psychometric curve for Model B simulations\n",
        "plot_psychometric_simulation(df_modelB)\n",
        "plt.show()"
      ]
    },
    {
      "cell_type": "markdown",
      "id": "2623624f",
      "metadata": {
        "id": "2623624f"
      },
      "source": [
        "(Optional) Repeat the same for model A: define simulation function, use it to simulate data on the set of trials as for the experimental dataset, and plot the corresponding psychometric curves (separately for deactivation and control trials)."
      ]
    },
    {
      "cell_type": "code",
      "execution_count": null,
      "id": "be377816",
      "metadata": {
        "id": "be377816"
      },
      "outputs": [],
      "source": [
        "# Define a function to simulate Model A\n",
        "def simulate_modelA(s, c, sigma_d=1, sigma_m=1.5, T=0):\n",
        "    \"\"\"\n",
        "    Simulates Model A: the manipulation affects sensory noise level.\n",
        "\n",
        "    Args:\n",
        "        s (list): Stimulus evidence for each trial.\n",
        "        c (list): Condition values for each trial (0 for control, 1 for manipulation).\n",
        "        sigma_d (scalar): Noise variance in control condition.\n",
        "        sigma_m (scalar): Noise variance in manipulation condition.\n",
        "        T (scalar): Decision threshold.\n",
        "\n",
        "    Returns:\n",
        "        list: Binary choices for each trial (0 = left, 1 = right).\n",
        "    \"\"\"\n",
        "    n = len(s)  # Number of trials\n",
        "\n",
        "    # Assign noise level based on condition (sigma_d for control, sigma_m for manipulation)\n",
        "    sigma = np.where(c == 0, sigma_d, sigma_m)\n",
        "\n",
        "    # Add Gaussian noise to stimulus (true stimulus evidence corrupted by noise)\n",
        "    s_hat = s + np.random.normal(0, np.sqrt(sigma), size=n)\n",
        "\n",
        "    # Binary decision: 1 if noisy stimulus is above threshold, 0 otherwise\n",
        "    r = (s_hat > T).astype(int)\n",
        "    return r"
      ]
    },
    {
      "cell_type": "code",
      "execution_count": null,
      "id": "bde004ea",
      "metadata": {
        "id": "bde004ea"
      },
      "outputs": [],
      "source": [
        "# Simulate Model A with given parameters\n",
        "sigma_d = 1  # Sensory noise in control condition\n",
        "sigma_m = 1.5  # Sensory noise in manipulation condition\n",
        "T = 0  # Decision threshold\n",
        "\n",
        "# Simulate Model A using the extracted conditions and stimulus\n",
        "r = simulate_modelA(s, c, sigma_d=sigma_d, sigma_m=sigma_m, T=T)\n",
        "\n",
        "# Create a DataFrame for the simulated data from Model A\n",
        "df_modelA = pd.DataFrame({'stimulus': s, 'condition': c, 'response': r})"
      ]
    },
    {
      "cell_type": "code",
      "execution_count": null,
      "id": "47e477db",
      "metadata": {
        "id": "47e477db",
        "outputId": "86b448c5-7370-4a7a-e4b0-84c9f80abe2f",
        "colab": {
          "base_uri": "https://localhost:8080/",
          "height": 487
        }
      },
      "outputs": [
        {
          "output_type": "display_data",
          "data": {
            "text/plain": [
              "<Figure size 700x500 with 1 Axes>"
            ],
            "image/png": "[encoded data removed]"
          },
          "metadata": {}
        }
      ],
      "source": [
        "# Define a function to plot the psychometric curve for Model A\n",
        "def plot_psychometric_curve(df, title):\n",
        "    \"\"\"\n",
        "    Plots the psychometric curve for control and manipulation trials based on simulated data.\n",
        "\n",
        "    Args:\n",
        "        df (dataframe): Simulated data.\n",
        "        title (str): Title of the plot.\n",
        "    \"\"\"\n",
        "    plt.figure(figsize=(7, 5))\n",
        "\n",
        "    # Plot psychometric curve for control trials (condition = 0)\n",
        "    mask_control = df['condition'] == 0\n",
        "    df[mask_control].groupby('stimulus').response.agg(['mean', 'sem']).plot(\n",
        "        yerr='sem', fmt='bo', ax=plt.gca(), legend=False)\n",
        "\n",
        "    # Plot psychometric curve for manipulation trials (condition = 1)\n",
        "    mask_manip = df['condition'] == 1\n",
        "    df[mask_manip].groupby('stimulus').response.agg(['mean', 'sem']).plot(\n",
        "        yerr='sem', fmt='ro', ax=plt.gca(), legend=False)\n",
        "\n",
        "    plt.title(title)\n",
        "    plt.xlabel('Stimulus Evidence')\n",
        "    plt.ylabel('Proportion of Rightward Choices')\n",
        "    plt.legend(['Control', 'Manipulation'])\n",
        "\n",
        "# Plot the psychometric curve for Model A simulations\n",
        "plot_psychometric_curve(df_modelA, 'Model A Simulations')\n",
        "plt.show()"
      ]
    },
    {
      "cell_type": "markdown",
      "id": "c69d22cf",
      "metadata": {
        "id": "c69d22cf"
      },
      "source": [
        "Can you already visualize a difference in the behavior of the two models?"
      ]
    },
    {
      "cell_type": "markdown",
      "id": "7aae227c",
      "metadata": {
        "id": "7aae227c"
      },
      "source": [
        "Yes, clearly the manipulation curve in model A is steeper than in model B"
      ]
    },
    {
      "cell_type": "markdown",
      "id": "608a7eb6",
      "metadata": {
        "id": "608a7eb6"
      },
      "source": [
        "# PART I - 3. Model estimation\n",
        "\n",
        "We are lucky that in both models we can formulate analytically the statistical link between the observed variable (response) and the conditions.\n",
        "In simple signal detection theory, $p(r=1|s) = \\int_{\\hat s} p(r=1|\\hat s)p(\\hat s|s)d\\hat s = \\int_{\\hat s>T} \\mathcal N(\\hat s;s,\\sigma^2)d\\hat s=\\Phi( \\frac{s-T}{\\sigma})$ where $\\Phi$ is the cumulative standard normal function.\n",
        "\n",
        "So for model B (in deactivation trials): $p_B(r=1|s) = (1-\\lambda)\\Phi( \\frac{s}{\\sigma}) + \\lambda/2$\n",
        "\n",
        "## 3.1 Naive fitting\n",
        "\n",
        "A naive fitting procedure consists in adjusting manually the parameters in each model to try to visually match the experimental and theoretical psychometric curves. Here we just adjust the parameters by hand so that the predicted value captures the summary statistics qualitatively.\n",
        "To do so, first, define a function that computes the probability of a rightward choice according to model B as a function of stimulus evidence and experimental condition. Then define another function which uses this function to plot the theoretical psychometric curves according to model B, now at all continuous valus of stimulus evidence between -3 and 3 (and not just the 9 discrete values explored in the dataset). One of the benefit of using a statistical model is to draw predictions for experimental conditions not seen in the original dataset."
      ]
    },
    {
      "cell_type": "code",
      "execution_count": null,
      "id": "a9c18519",
      "metadata": {
        "id": "a9c18519"
      },
      "outputs": [],
      "source": [
        "# Probability of rightward choices according to Model B\n",
        "def p_modelB(s, c, sigma_d, Lambda):\n",
        "    \"\"\"\n",
        "    Computes the probability of rightward choices according to model B.\n",
        "\n",
        "    Args:\n",
        "        s (list): Sensory evidence for each trial.\n",
        "        c (list): Experimental condition for each trial.\n",
        "        sigma_d (float): Sensory noise.\n",
        "        Lambda (float): Lapse probability.\n",
        "\n",
        "    Returns:\n",
        "        np.array: Probability of rightward choice for each trial.\n",
        "    \"\"\"\n",
        "    s = np.array(s)\n",
        "    c = np.array(c)\n",
        "\n",
        "    # Rightward choice probability for control\n",
        "    p_ctrl = norm.cdf(s / sigma_d)\n",
        "\n",
        "    # Rightward choice probability for manipulation (deactivation)\n",
        "    p_manip = (1 - Lambda) * norm.cdf(s / sigma_d) + Lambda / 2\n",
        "\n",
        "    # Return probability for control or manipulation condition\n",
        "    p = np.where(c == 'control', p_ctrl, p_manip)\n",
        "    return p\n",
        "\n",
        "# Plot psychometric curve based on model predictions\n",
        "def plot_model(p_model):\n",
        "    \"\"\"\n",
        "    Plots the psychometric curve according to the given model.\n",
        "\n",
        "    Args:\n",
        "        p_model (function): Computes the probability of rightward choices according to the model.\n",
        "    \"\"\"\n",
        "    s_linspace = np.linspace(-3, 3, 100)  # Continuous stimulus values\n",
        "\n",
        "    # Calculate probabilities for control and manipulation conditions\n",
        "    p_standard = p_model(s_linspace, 'control')\n",
        "    p_manipulation = p_model(s_linspace, 'manipulation')\n",
        "\n",
        "    # Plot the fitted psychometric function\n",
        "    plt.plot(s_linspace, p_standard, 'b', label=\"Control\")\n",
        "    plt.plot(s_linspace, p_manipulation, 'r', label=\"Manipulation\")\n",
        "    plt.ylabel('p(rightward)')\n",
        "    plt.xlabel('Stimulus Evidence')\n",
        "    plt.legend()\n"
      ]
    },
    {
      "cell_type": "markdown",
      "id": "b2921cb7",
      "metadata": {
        "id": "b2921cb7"
      },
      "source": [
        "Now use the widget below to adjust parameters to yield the best possible fit between experimental and theoretical psychometric curves. Is the fit good enough?"
      ]
    },
    {
      "cell_type": "code",
      "execution_count": null,
      "id": "4d609650",
      "metadata": {
        "id": "4d609650",
        "outputId": "676e0dca-106c-4032-b0f4-3a7c8394583d",
        "colab": {
          "referenced_widgets": [
            "e7937cb7057d4502a755fb8dd5b9ff5a",
            "5d5045b7badd4bfc8d08b506ef23ad38",
            "a9bdd893be3c491db482a937eb6038de",
            "d5c356e0bc044f04bb181fbe9f064544",
            "8b147ca25dc04940852d0af1750af0ce",
            "2fbd7d9defdf46f499d0af0eeb649ef6",
            "d1921455323a4002bddbaff966ca5978",
            "400648803900425aaeac17abfa39150e",
            "c2d9740854a94e92beba6181568e15bf",
            "5ed98b6afe614a19bbe6073bd8109a77"
          ],
          "base_uri": "https://localhost:8080/",
          "height": 536
        }
      },
      "outputs": [
        {
          "output_type": "display_data",
          "data": {
            "text/plain": [
              "interactive(children=(FloatSlider(value=1.0, description='sigma_hat', max=2.0), FloatSlider(value=0.5, descrip…"
            ],
            "application/vnd.jupyter.widget-view+json": {
              "version_major": 2,
              "version_minor": 0,
              "model_id": "e7937cb7057d4502a755fb8dd5b9ff5a"
            }
          },
          "metadata": {}
        }
      ],
      "source": [
        "@widgets.interact(\n",
        "    sigma_hat=widgets.FloatSlider(1.0, min=0.0, max=2.0),  # Sensory noise\n",
        "    Lambda_hat=widgets.FloatSlider(0.5, min=0.0, max=1.0))  # Lapse probability\n",
        "def plot_data_estimate(sigma_hat, Lambda_hat):\n",
        "\n",
        "    # Create an anonymous function to calculate p_modelB with the adjusted parameters\n",
        "    p_modelB_fun = lambda s, c: p_modelB(s, c, sigma_d=sigma_hat, Lambda=Lambda_hat)\n",
        "\n",
        "    # Plot model predictions\n",
        "    plot_model(p_modelB_fun)\n",
        "\n",
        "    # Add real data points (function plot_data_psychometric should be defined)\n",
        "    #plot_data_psychometric(df_exp)\n",
        "\n",
        "    plt.title('Model B');\n",
        "    plt.show()"
      ]
    },
    {
      "cell_type": "markdown",
      "id": "33ce5fa5",
      "metadata": {
        "id": "33ce5fa5"
      },
      "source": [
        "(Optional) Repeat the same for model A."
      ]
    },
    {
      "cell_type": "code",
      "execution_count": null,
      "id": "24452856",
      "metadata": {
        "id": "24452856"
      },
      "outputs": [],
      "source": [
        "# Probability of rightward choices according to Model A\n",
        "def p_modelA(s, c, sigma_d, sigma_m):\n",
        "    \"\"\"\n",
        "    Computes the probability of rightward choices according to model A.\n",
        "\n",
        "    Args:\n",
        "        s (list): Sensory evidence for each trial.\n",
        "        c (list): Experimental condition for each trial.\n",
        "        sigma_d (float): Noise in control condition.\n",
        "        sigma_m (float): Noise in deactivation condition.\n",
        "\n",
        "    Returns:\n",
        "        np.array: Probability of rightward choice for each trial.\n",
        "    \"\"\"\n",
        "    s = np.array(s)\n",
        "    c = np.array(c)\n",
        "\n",
        "    # Rightward choice probability for control and manipulation\n",
        "    p_ctrl = norm.cdf(s / sigma_d)\n",
        "    p_manip = norm.cdf(s / sigma_m)\n",
        "\n",
        "    # Return the correct probability based on condition\n",
        "    p = np.where(c == 'control', p_ctrl, p_manip)\n",
        "    return p"
      ]
    },
    {
      "cell_type": "code",
      "execution_count": null,
      "id": "009079ab",
      "metadata": {
        "id": "009079ab",
        "colab": {
          "base_uri": "https://localhost:8080/",
          "height": 536,
          "referenced_widgets": [
            "b217d6a4598c4b8781e437891e0c3aed",
            "0edfd1afc4be4d00805a47608ebb1427",
            "5b49766471864964836fdc116db99cd5",
            "6f28beac9f4b4c94827bee44c44690a9",
            "5bd91a40ff8c4a05b285af2c681379dd",
            "eb1b324c34274fa595412c9f0b32865e",
            "2a456d01c688405ab695f09a8c4ff1b6",
            "cb5e0390a0e64b888e64dc460048e69b",
            "18fbd6417a414b9db0d9e4021618b590",
            "b45bd251ecdd47f79f520986acd8b644"
          ]
        },
        "outputId": "0199f7b6-5375-4fee-a32b-1ace265c2939"
      },
      "outputs": [
        {
          "output_type": "display_data",
          "data": {
            "text/plain": [
              "interactive(children=(FloatSlider(value=1.0, description='sigma_d_hat', max=2.0), FloatSlider(value=1.0, descr…"
            ],
            "application/vnd.jupyter.widget-view+json": {
              "version_major": 2,
              "version_minor": 0,
              "model_id": "b217d6a4598c4b8781e437891e0c3aed"
            }
          },
          "metadata": {}
        }
      ],
      "source": [
        "@widgets.interact(\n",
        "    sigma_d_hat=widgets.FloatSlider(1.0, min=0.0, max=2.0),  # Noise in control condition\n",
        "    sigma_m_hat=widgets.FloatSlider(1.0, min=0.0, max=2.0))  # Noise in manipulation condition\n",
        "def plot_data_estimate(sigma_d_hat, sigma_m_hat):\n",
        "\n",
        "    # Plot model predictions with adjusted parameters\n",
        "    plot_model(lambda s, c: p_modelA(s, c, sigma_d=sigma_d_hat, sigma_m=sigma_m_hat))\n",
        "\n",
        "    # Add real data points\n",
        "    #plot_data_psychometric(df_exp)\n",
        "\n",
        "    plt.title('Model A')\n",
        "    plt.show()\n"
      ]
    },
    {
      "cell_type": "markdown",
      "id": "9847aa7e",
      "metadata": {
        "id": "9847aa7e"
      },
      "source": [
        "## 3.2 Likelihood function\n",
        "Now we will use a more principled approach to parameter estimation by looking for the set of parameters that maximize a given metric, namely the **log-likelihood** of the data. The likelihood function is a function, defined for a given model and dataset, that takes the **parameters as input**.\n",
        "Complete the following function to compute the log-likelihood of model for a given set of parameters."
      ]
    },
    {
      "cell_type": "code",
      "execution_count": null,
      "id": "ba0b5002",
      "metadata": {
        "id": "ba0b5002"
      },
      "outputs": [],
      "source": [
        "def LogLikelihood_modelB(df, sigma_d, Lambda):\n",
        "    \"\"\"\n",
        "    Computes the log-likelihood of Model B with a given parameter set.\n",
        "\n",
        "    Args:\n",
        "        df (DataFrame): Dataset containing trial data (stimulus, condition, response).\n",
        "        sigma_d (float): Sensory noise.\n",
        "        Lambda (float): Lapse probability.\n",
        "\n",
        "    Returns:\n",
        "        float: Log-likelihood of Model B.\n",
        "    \"\"\"\n",
        "    s = df['stimulus'].values\n",
        "    c = df['condition'].values\n",
        "    r = df['response'].values\n",
        "\n",
        "    # Calculate the probability of rightward choice for each trial using Model B\n",
        "    p = p_modelB(s, c, sigma_d, Lambda)\n",
        "\n",
        "    # Compute likelihood for each trial: p if response is rightward, 1-p otherwise\n",
        "    lh = np.where(r == 1, p, 1 - p)\n",
        "\n",
        "    # Avoid division by zero\n",
        "    lh = np.where(lh == 0, np.finfo(float).eps, lh)\n",
        "\n",
        "    # Calculate the log-likelihood for the dataset\n",
        "    LLH = np.sum(np.log(lh))\n",
        "\n",
        "    return LLH"
      ]
    },
    {
      "cell_type": "markdown",
      "id": "ab2c2602",
      "metadata": {
        "id": "ab2c2602"
      },
      "source": [
        "Compute the log-likelihood of model B at the values of the parameters obtained by naive fitting."
      ]
    },
    {
      "cell_type": "code",
      "execution_count": null,
      "id": "4f76e4a1",
      "metadata": {
        "id": "4f76e4a1",
        "colab": {
          "base_uri": "https://localhost:8080/"
        },
        "outputId": "d5fc55d1-dfea-463b-c8f4-2aaf22c4f8f1"
      },
      "outputs": [
        {
          "output_type": "stream",
          "name": "stdout",
          "text": [
            "Log-likelihood of Model B: -1037.0948048755777\n"
          ]
        }
      ],
      "source": [
        "# Naively fitted parameters\n",
        "sigma_d_hat = 1.0\n",
        "Lambda_hat = 0.2\n",
        "\n",
        "# Compute log-likelihood of Model B\n",
        "llh_B = LogLikelihood_modelB(df_exp, sigma_d_hat, Lambda_hat)\n",
        "print(f\"Log-likelihood of Model B: {llh_B}\")\n"
      ]
    },
    {
      "cell_type": "markdown",
      "id": "e2acebd9",
      "metadata": {
        "id": "e2acebd9"
      },
      "source": [
        "## 3.3 Maximum likelihood estimation\n",
        "\n",
        "Now that we have a function of parameters that defines a metric for how well the model accounts for the data, we will look for the parameter space in search for the parameter set that maximizes this metric.\n",
        "First, plot the value of the LLH as a function of both parameters, as a coloured plot."
      ]
    },
    {
      "cell_type": "code",
      "execution_count": null,
      "id": "a7090083",
      "metadata": {
        "id": "a7090083",
        "colab": {
          "base_uri": "https://localhost:8080/",
          "height": 473
        },
        "outputId": "1520bcdd-b206-42f1-f0c1-ba1ed43fdaf7"
      },
      "outputs": [
        {
          "output_type": "display_data",
          "data": {
            "text/plain": [
              "<Figure size 640x480 with 2 Axes>"
            ],
            "image/png": "[encoded data removed]"
          },
          "metadata": {}
        }
      ],
      "source": [
        "# Define linearly spaced values of Lambda (lapse rate) and sigma (sensory noise variance)\n",
        "Lambda = np.arange(0.005, 0.96, 0.025)\n",
        "sigma = np.arange(0.3, 3.0, 0.025)\n",
        "\n",
        "# Compute a grid of all possible parameter pairs (Lambda, sigma)\n",
        "LL, ss = np.meshgrid(Lambda, sigma)\n",
        "\n",
        "# Initialize an array to store the log-likelihood values for each parameter pair\n",
        "LLH = np.zeros(LL.shape)\n",
        "\n",
        "# Loop over each combination of Lambda and sigma and compute log-likelihood for model B\n",
        "for j in range(LL.shape[0]):\n",
        "    for k in range(LL.shape[1]):\n",
        "        LLH[j, k] = LogLikelihood_modelB(df_exp, sigma[j], Lambda[k])\n",
        "\n",
        "# Function to display the log-likelihood profile as a colored plot (heatmap)\n",
        "def show_LL(LLH, Lambda, sigma):\n",
        "    # Flip LLH array to match the plot axes, and set color plot\n",
        "    im = plt.imshow(np.flipud(LLH), extent=[Lambda[0], Lambda[-1], sigma[0], sigma[-1]])\n",
        "    plt.gca().set_aspect(0.4)  # Adjust the aspect ratio\n",
        "    plt.ylabel('$\\sigma^2$')    # Label for sigma (variance)\n",
        "    plt.xlabel('$\\lambda$')     # Label for lambda (lapse rate)\n",
        "    plt.colorbar(im)            # Add a color bar to indicate likelihood scale\n",
        "\n",
        "# Plot the log-likelihood profile\n",
        "show_LL(LLH, Lambda, sigma)\n",
        "plt.title('LLH of model B')\n",
        "plt.show()"
      ]
    },
    {
      "cell_type": "markdown",
      "id": "2cdfa5c7",
      "metadata": {
        "id": "2cdfa5c7"
      },
      "source": [
        "Finally, we can identify the maximum-likelihood parameters by using an optimization algorithm over the LLH function. Because most optimization tools are defined for minimization rather than maximization, we will actually minimize the negative Log-Likelihood (which is equivalent to maximize the LLH)."
      ]
    },
    {
      "cell_type": "code",
      "execution_count": null,
      "id": "612ba32e-6646-43d8-a2b2-8b0bdb6e876e",
      "metadata": {
        "id": "612ba32e-6646-43d8-a2b2-8b0bdb6e876e",
        "colab": {
          "base_uri": "https://localhost:8080/"
        },
        "outputId": "4166ec94-8375-4b41-a28e-342b1fe2286a"
      },
      "outputs": [
        {
          "output_type": "stream",
          "name": "stdout",
          "text": [
            "sigma_hat^2 = 0.9770946774223463\n",
            "Lambda_hat = 0.22677753635308115\n"
          ]
        }
      ],
      "source": [
        "# Define the objective function for optimization (negative log-likelihood of model B)\n",
        "def neg_llh_modelB(pp, df):\n",
        "    \"\"\"\n",
        "    Computes the negative log-likelihood for model B.\n",
        "\n",
        "    Args:\n",
        "        pp (list): set of parameters [sigma_d, Lambda]\n",
        "        df (dataframe): dataset\n",
        "\n",
        "    Returns:\n",
        "        scalar: negative log-likelihood (to be minimized)\n",
        "    \"\"\"\n",
        "    sigma_d, Lambda = pp\n",
        "    llh_b = -LogLikelihood_modelB(df, sigma_d, Lambda)  # Negative log-likelihood\n",
        "    return llh_b\n",
        "\n",
        "# Define the bounds for each parameter (to restrict the search space)\n",
        "bounds = [(0.1, 10), (0.01, 1)]  # sigma_d between 0.1 and 10, Lambda between 0.01 and 1\n",
        "\n",
        "# Initial guess for the parameter set [sigma_d, Lambda]\n",
        "x0 = [0.75, 0.5]\n",
        "\n",
        "# Perform the optimization to minimize the negative log-likelihood\n",
        "result = optimize.minimize(neg_llh_modelB, x0=x0, args=(df_exp), bounds=bounds)\n",
        "\n",
        "# Retrieve the optimized parameters (MLE estimates)\n",
        "sigma_hat, Lambda_hat = result.x\n",
        "\n",
        "# Print the maximum likelihood estimates\n",
        "print(\"sigma_hat^2 =\", sigma_hat)\n",
        "print(\"Lambda_hat =\", Lambda_hat)"
      ]
    },
    {
      "cell_type": "markdown",
      "id": "b2472c70",
      "metadata": {
        "id": "b2472c70"
      },
      "source": [
        "Add the maximum likelihood parameters as a red dot on the LLH profile."
      ]
    },
    {
      "cell_type": "code",
      "execution_count": null,
      "id": "fa121853-6135-48c7-899a-40c0103dc162",
      "metadata": {
        "id": "fa121853-6135-48c7-899a-40c0103dc162",
        "outputId": "70e02ef0-ac79-4f34-a188-09c32789381d",
        "colab": {
          "base_uri": "https://localhost:8080/",
          "height": 473
        }
      },
      "outputs": [
        {
          "output_type": "display_data",
          "data": {
            "text/plain": [
              "<Figure size 640x480 with 2 Axes>"
            ],
            "image/png": "[encoded data removed]"
          },
          "metadata": {}
        }
      ],
      "source": [
        "# Plot the LLH profile again and add the MLE parameters as a red dot\n",
        "show_LL(LLH, Lambda, sigma)\n",
        "plt.plot(Lambda_hat, sigma_hat, 'ro', markersize=10, label='MLE')  # MLE shown as a red dot\n",
        "plt.legend()\n",
        "plt.title('LLH of model B')\n",
        "plt.show()"
      ]
    },
    {
      "cell_type": "markdown",
      "id": "f801ede5",
      "metadata": {
        "id": "f801ede5"
      },
      "source": [
        "(Optional) Repeat maximum likelihood estimation, now for model A."
      ]
    },
    {
      "cell_type": "code",
      "execution_count": null,
      "id": "c49c1701",
      "metadata": {
        "id": "c49c1701"
      },
      "outputs": [],
      "source": [
        "# Define log-likelihood computation for model A\n",
        "def LogLikelihood_modelA(df, sigma_d, sigma_m):\n",
        "    \"\"\"\n",
        "    Computes the log-likelihood of model A for a given set of parameters.\n",
        "\n",
        "    Args:\n",
        "        df (dataframe): dataset\n",
        "        sigma_d (scalar): variance of sensory noise in control trials\n",
        "        sigma_m (scalar): variance of sensory noise in deactivation trials\n",
        "\n",
        "    Returns:\n",
        "        scalar: log-likelihood value\n",
        "    \"\"\"\n",
        "    # Extract stimulus, condition, and response from the dataset\n",
        "    s = df['stimulus'].values\n",
        "    c = df['condition'].values\n",
        "    r = df['response'].values\n",
        "\n",
        "    # Use sigma_d for control trials and sigma_m for manipulated trials\n",
        "    sigma = np.where(c == 0, sigma_d, sigma_m)\n",
        "\n",
        "    # Compute the probability of a rightward choice based on sensory evidence\n",
        "    p = norm.cdf(s / sigma)\n",
        "\n",
        "    # Compute the likelihood for each trial (p if response is rightward, 1 - p otherwise)\n",
        "    lh = np.where(r == 1, p, 1 - p)\n",
        "\n",
        "    # Avoid division by zero by replacing zero likelihoods with a small value\n",
        "    lh = np.where(lh == 0, np.finfo(float).eps, lh)\n",
        "\n",
        "    # Compute the log-likelihood by summing the log of the likelihoods\n",
        "    LLH = np.sum(np.log(lh))\n",
        "\n",
        "    return LLH\n"
      ]
    },
    {
      "cell_type": "code",
      "execution_count": null,
      "id": "f73547b9",
      "metadata": {
        "id": "f73547b9",
        "colab": {
          "base_uri": "https://localhost:8080/"
        },
        "outputId": "0dbc632a-d01e-45da-de77-79244275be64"
      },
      "outputs": [
        {
          "output_type": "stream",
          "name": "stdout",
          "text": [
            "sigma_d_hat^2 = 0.75\n",
            "sigma_m_hat^2 = 1.4655614053547212\n"
          ]
        }
      ],
      "source": [
        "# Define the objective function (negative log-likelihood of model A)\n",
        "def neg_llh_modelA(pp, df):\n",
        "    \"\"\"\n",
        "    Computes the negative log-likelihood for model A.\n",
        "\n",
        "    Args:\n",
        "        pp (list): set of parameters [sigma_d, sigma_m]\n",
        "        df (dataframe): dataset\n",
        "\n",
        "    Returns:\n",
        "        scalar: negative log-likelihood (to be minimized)\n",
        "    \"\"\"\n",
        "    sigma_d, sigma_m = pp\n",
        "    llh_a = -LogLikelihood_modelA(df, sigma_d, sigma_m)  # Negative log-likelihood\n",
        "    return llh_a\n",
        "\n",
        "# Define the bounds for each parameter (sigma_d and sigma_m)\n",
        "bounds = [(0.1, 10), (0.1, 10)]  # Both sigma_d and sigma_m between 0.1 and 10\n",
        "\n",
        "# Initial guess for the parameter set [sigma_d, sigma_m]\n",
        "x0 = [0.75, 0.5]\n",
        "\n",
        "# Perform the optimization to minimize the negative log-likelihood\n",
        "result = optimize.minimize(neg_llh_modelA, x0=x0, args=(df_exp), bounds=bounds)\n",
        "\n",
        "# Retrieve the optimized parameters (MLE estimates)\n",
        "sigma_d_hat, sigma_m_hat = result.x\n",
        "\n",
        "# Print the maximum likelihood estimates\n",
        "print(\"sigma_d_hat^2 =\", sigma_d_hat)\n",
        "print(\"sigma_m_hat^2 =\", sigma_m_hat)"
      ]
    }
  ],
  "metadata": {
    "kernelspec": {
      "display_name": "Python 3 (ipykernel)",
      "language": "python",
      "name": "python3"
    },
    "language_info": {
      "codemirror_mode": {
        "name": "ipython",
        "version": 3
      },
      "file_extension": ".py",
      "mimetype": "text/x-python",
      "name": "python",
      "nbconvert_exporter": "python",
      "pygments_lexer": "ipython3",
      "version": "3.10.9"
    },
    "colab": {
      "provenance": []
    },
    "widgets": {
      "application/vnd.jupyter.widget-state+json": {
        "e7937cb7057d4502a755fb8dd5b9ff5a": {
          "model_module": "@jupyter-widgets/controls",
          "model_name": "VBoxModel",
          "model_module_version": "1.5.0",
          "state": {
            "_dom_classes": [
              "widget-interact"
            ],
            "_model_module": "@jupyter-widgets/controls",
            "_model_module_version": "1.5.0",
            "_model_name": "VBoxModel",
            "_view_count": null,
            "_view_module": "@jupyter-widgets/controls",
            "_view_module_version": "1.5.0",
            "_view_name": "VBoxView",
            "box_style": "",
            "children": [
              "IPY_MODEL_5d5045b7badd4bfc8d08b506ef23ad38",
              "IPY_MODEL_a9bdd893be3c491db482a937eb6038de",
              "IPY_MODEL_d5c356e0bc044f04bb181fbe9f064544"
            ],
            "layout": "IPY_MODEL_8b147ca25dc04940852d0af1750af0ce"
          }
        },
        "5d5045b7badd4bfc8d08b506ef23ad38": {
          "model_module": "@jupyter-widgets/controls",
          "model_name": "FloatSliderModel",
          "model_module_version": "1.5.0",
          "state": {
            "_dom_classes": [],
            "_model_module": "@jupyter-widgets/controls",
            "_model_module_version": "1.5.0",
            "_model_name": "FloatSliderModel",
            "_view_count": null,
            "_view_module": "@jupyter-widgets/controls",
            "_view_module_version": "1.5.0",
            "_view_name": "FloatSliderView",
            "continuous_update": true,
            "description": "sigma_hat",
            "description_tooltip": null,
            "disabled": false,
            "layout": "IPY_MODEL_2fbd7d9defdf46f499d0af0eeb649ef6",
            "max": 2,
            "min": 0,
            "orientation": "horizontal",
            "readout": true,
            "readout_format": ".2f",
            "step": 0.1,
            "style": "IPY_MODEL_d1921455323a4002bddbaff966ca5978",
            "value": 1
          }
        },
        "a9bdd893be3c491db482a937eb6038de": {
          "model_module": "@jupyter-widgets/controls",
          "model_name": "FloatSliderModel",
          "model_module_version": "1.5.0",
          "state": {
            "_dom_classes": [],
            "_model_module": "@jupyter-widgets/controls",
            "_model_module_version": "1.5.0",
            "_model_name": "FloatSliderModel",
            "_view_count": null,
            "_view_module": "@jupyter-widgets/controls",
            "_view_module_version": "1.5.0",
            "_view_name": "FloatSliderView",
            "continuous_update": true,
            "description": "Lambda_hat",
            "description_tooltip": null,
            "disabled": false,
            "layout": "IPY_MODEL_400648803900425aaeac17abfa39150e",
            "max": 1,
            "min": 0,
            "orientation": "horizontal",
            "readout": true,
            "readout_format": ".2f",
            "step": 0.1,
            "style": "IPY_MODEL_c2d9740854a94e92beba6181568e15bf",
            "value": 0.2
          }
        },
        "d5c356e0bc044f04bb181fbe9f064544": {
          "model_module": "@jupyter-widgets/output",
          "model_name": "OutputModel",
          "model_module_version": "1.0.0",
          "state": {
            "_dom_classes": [],
            "_model_module": "@jupyter-widgets/output",
            "_model_module_version": "1.0.0",
            "_model_name": "OutputModel",
            "_view_count": null,
            "_view_module": "@jupyter-widgets/output",
            "_view_module_version": "1.0.0",
            "_view_name": "OutputView",
            "layout": "IPY_MODEL_5ed98b6afe614a19bbe6073bd8109a77",
            "msg_id": "",
            "outputs": [
              {
                "output_type": "display_data",
                "data": {
                  "text/plain": "<Figure size 640x480 with 1 Axes>",
                  "image/png": "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\n"
                },
                "metadata": {}
              }
            ]
          }
        },
        "8b147ca25dc04940852d0af1750af0ce": {
          "model_module": "@jupyter-widgets/base",
          "model_name": "LayoutModel",
          "model_module_version": "1.2.0",
          "state": {
            "_model_module": "@jupyter-widgets/base",
            "_model_module_version": "1.2.0",
            "_model_name": "LayoutModel",
            "_view_count": null,
            "_view_module": "@jupyter-widgets/base",
            "_view_module_version": "1.2.0",
            "_view_name": "LayoutView",
            "align_content": null,
            "align_items": null,
            "align_self": null,
            "border": null,
            "bottom": null,
            "display": null,
            "flex": null,
            "flex_flow": null,
            "grid_area": null,
            "grid_auto_columns": null,
            "grid_auto_flow": null,
            "grid_auto_rows": null,
            "grid_column": null,
            "grid_gap": null,
            "grid_row": null,
            "grid_template_areas": null,
            "grid_template_columns": null,
            "grid_template_rows": null,
            "height": null,
            "justify_content": null,
            "justify_items": null,
            "left": null,
            "margin": null,
            "max_height": null,
            "max_width": null,
            "min_height": null,
            "min_width": null,
            "object_fit": null,
            "object_position": null,
            "order": null,
            "overflow": null,
            "overflow_x": null,
            "overflow_y": null,
            "padding": null,
            "right": null,
            "top": null,
            "visibility": null,
            "width": null
          }
        },
        "2fbd7d9defdf46f499d0af0eeb649ef6": {
          "model_module": "@jupyter-widgets/base",
          "model_name": "LayoutModel",
          "model_module_version": "1.2.0",
          "state": {
            "_model_module": "@jupyter-widgets/base",
            "_model_module_version": "1.2.0",
            "_model_name": "LayoutModel",
            "_view_count": null,
            "_view_module": "@jupyter-widgets/base",
            "_view_module_version": "1.2.0",
            "_view_name": "LayoutView",
            "align_content": null,
            "align_items": null,
            "align_self": null,
            "border": null,
            "bottom": null,
            "display": null,
            "flex": null,
            "flex_flow": null,
            "grid_area": null,
            "grid_auto_columns": null,
            "grid_auto_flow": null,
            "grid_auto_rows": null,
            "grid_column": null,
            "grid_gap": null,
            "grid_row": null,
            "grid_template_areas": null,
            "grid_template_columns": null,
            "grid_template_rows": null,
            "height": null,
            "justify_content": null,
            "justify_items": null,
            "left": null,
            "margin": null,
            "max_height": null,
            "max_width": null,
            "min_height": null,
            "min_width": null,
            "object_fit": null,
            "object_position": null,
            "order": null,
            "overflow": null,
            "overflow_x": null,
            "overflow_y": null,
            "padding": null,
            "right": null,
            "top": null,
            "visibility": null,
            "width": null
          }
        },
        "d1921455323a4002bddbaff966ca5978": {
          "model_module": "@jupyter-widgets/controls",
          "model_name": "SliderStyleModel",
          "model_module_version": "1.5.0",
          "state": {
            "_model_module": "@jupyter-widgets/controls",
            "_model_module_version": "1.5.0",
            "_model_name": "SliderStyleModel",
            "_view_count": null,
            "_view_module": "@jupyter-widgets/base",
            "_view_module_version": "1.2.0",
            "_view_name": "StyleView",
            "description_width": "",
            "handle_color": null
          }
        },
        "400648803900425aaeac17abfa39150e": {
          "model_module": "@jupyter-widgets/base",
          "model_name": "LayoutModel",
          "model_module_version": "1.2.0",
          "state": {
            "_model_module": "@jupyter-widgets/base",
            "_model_module_version": "1.2.0",
            "_model_name": "LayoutModel",
            "_view_count": null,
            "_view_module": "@jupyter-widgets/base",
            "_view_module_version": "1.2.0",
            "_view_name": "LayoutView",
            "align_content": null,
            "align_items": null,
            "align_self": null,
            "border": null,
            "bottom": null,
            "display": null,
            "flex": null,
            "flex_flow": null,
            "grid_area": null,
            "grid_auto_columns": null,
            "grid_auto_flow": null,
            "grid_auto_rows": null,
            "grid_column": null,
            "grid_gap": null,
            "grid_row": null,
            "grid_template_areas": null,
            "grid_template_columns": null,
            "grid_template_rows": null,
            "height": null,
            "justify_content": null,
            "justify_items": null,
            "left": null,
            "margin": null,
            "max_height": null,
            "max_width": null,
            "min_height": null,
            "min_width": null,
            "object_fit": null,
            "object_position": null,
            "order": null,
            "overflow": null,
            "overflow_x": null,
            "overflow_y": null,
            "padding": null,
            "right": null,
            "top": null,
            "visibility": null,
            "width": null
          }
        },
        "c2d9740854a94e92beba6181568e15bf": {
          "model_module": "@jupyter-widgets/controls",
          "model_name": "SliderStyleModel",
          "model_module_version": "1.5.0",
          "state": {
            "_model_module": "@jupyter-widgets/controls",
            "_model_module_version": "1.5.0",
            "_model_name": "SliderStyleModel",
            "_view_count": null,
            "_view_module": "@jupyter-widgets/base",
            "_view_module_version": "1.2.0",
            "_view_name": "StyleView",
            "description_width": "",
            "handle_color": null
          }
        },
        "5ed98b6afe614a19bbe6073bd8109a77": {
          "model_module": "@jupyter-widgets/base",
          "model_name": "LayoutModel",
          "model_module_version": "1.2.0",
          "state": {
            "_model_module": "@jupyter-widgets/base",
            "_model_module_version": "1.2.0",
            "_model_name": "LayoutModel",
            "_view_count": null,
            "_view_module": "@jupyter-widgets/base",
            "_view_module_version": "1.2.0",
            "_view_name": "LayoutView",
            "align_content": null,
            "align_items": null,
            "align_self": null,
            "border": null,
            "bottom": null,
            "display": null,
            "flex": null,
            "flex_flow": null,
            "grid_area": null,
            "grid_auto_columns": null,
            "grid_auto_flow": null,
            "grid_auto_rows": null,
            "grid_column": null,
            "grid_gap": null,
            "grid_row": null,
            "grid_template_areas": null,
            "grid_template_columns": null,
            "grid_template_rows": null,
            "height": null,
            "justify_content": null,
            "justify_items": null,
            "left": null,
            "margin": null,
            "max_height": null,
            "max_width": null,
            "min_height": null,
            "min_width": null,
            "object_fit": null,
            "object_position": null,
            "order": null,
            "overflow": null,
            "overflow_x": null,
            "overflow_y": null,
            "padding": null,
            "right": null,
            "top": null,
            "visibility": null,
            "width": null
          }
        },
        "b217d6a4598c4b8781e437891e0c3aed": {
          "model_module": "@jupyter-widgets/controls",
          "model_name": "VBoxModel",
          "model_module_version": "1.5.0",
          "state": {
            "_dom_classes": [
              "widget-interact"
            ],
            "_model_module": "@jupyter-widgets/controls",
            "_model_module_version": "1.5.0",
            "_model_name": "VBoxModel",
            "_view_count": null,
            "_view_module": "@jupyter-widgets/controls",
            "_view_module_version": "1.5.0",
            "_view_name": "VBoxView",
            "box_style": "",
            "children": [
              "IPY_MODEL_0edfd1afc4be4d00805a47608ebb1427",
              "IPY_MODEL_5b49766471864964836fdc116db99cd5",
              "IPY_MODEL_6f28beac9f4b4c94827bee44c44690a9"
            ],
            "layout": "IPY_MODEL_5bd91a40ff8c4a05b285af2c681379dd"
          }
        },
        "0edfd1afc4be4d00805a47608ebb1427": {
          "model_module": "@jupyter-widgets/controls",
          "model_name": "FloatSliderModel",
          "model_module_version": "1.5.0",
          "state": {
            "_dom_classes": [],
            "_model_module": "@jupyter-widgets/controls",
            "_model_module_version": "1.5.0",
            "_model_name": "FloatSliderModel",
            "_view_count": null,
            "_view_module": "@jupyter-widgets/controls",
            "_view_module_version": "1.5.0",
            "_view_name": "FloatSliderView",
            "continuous_update": true,
            "description": "sigma_d_hat",
            "description_tooltip": null,
            "disabled": false,
            "layout": "IPY_MODEL_eb1b324c34274fa595412c9f0b32865e",
            "max": 2,
            "min": 0,
            "orientation": "horizontal",
            "readout": true,
            "readout_format": ".2f",
            "step": 0.1,
            "style": "IPY_MODEL_2a456d01c688405ab695f09a8c4ff1b6",
            "value": 1
          }
        },
        "5b49766471864964836fdc116db99cd5": {
          "model_module": "@jupyter-widgets/controls",
          "model_name": "FloatSliderModel",
          "model_module_version": "1.5.0",
          "state": {
            "_dom_classes": [],
            "_model_module": "@jupyter-widgets/controls",
            "_model_module_version": "1.5.0",
            "_model_name": "FloatSliderModel",
            "_view_count": null,
            "_view_module": "@jupyter-widgets/controls",
            "_view_module_version": "1.5.0",
            "_view_name": "FloatSliderView",
            "continuous_update": true,
            "description": "sigma_m_hat",
            "description_tooltip": null,
            "disabled": false,
            "layout": "IPY_MODEL_cb5e0390a0e64b888e64dc460048e69b",
            "max": 2,
            "min": 0,
            "orientation": "horizontal",
            "readout": true,
            "readout_format": ".2f",
            "step": 0.1,
            "style": "IPY_MODEL_18fbd6417a414b9db0d9e4021618b590",
            "value": 1
          }
        },
        "6f28beac9f4b4c94827bee44c44690a9": {
          "model_module": "@jupyter-widgets/output",
          "model_name": "OutputModel",
          "model_module_version": "1.0.0",
          "state": {
            "_dom_classes": [],
            "_model_module": "@jupyter-widgets/output",
            "_model_module_version": "1.0.0",
            "_model_name": "OutputModel",
            "_view_count": null,
            "_view_module": "@jupyter-widgets/output",
            "_view_module_version": "1.0.0",
            "_view_name": "OutputView",
            "layout": "IPY_MODEL_b45bd251ecdd47f79f520986acd8b644",
            "msg_id": "",
            "outputs": [
              {
                "output_type": "display_data",
                "data": {
                  "text/plain": "<Figure size 640x480 with 1 Axes>",
                  "image/png": "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\n"
                },
                "metadata": {}
              }
            ]
          }
        },
        "5bd91a40ff8c4a05b285af2c681379dd": {
          "model_module": "@jupyter-widgets/base",
          "model_name": "LayoutModel",
          "model_module_version": "1.2.0",
          "state": {
            "_model_module": "@jupyter-widgets/base",
            "_model_module_version": "1.2.0",
            "_model_name": "LayoutModel",
            "_view_count": null,
            "_view_module": "@jupyter-widgets/base",
            "_view_module_version": "1.2.0",
            "_view_name": "LayoutView",
            "align_content": null,
            "align_items": null,
            "align_self": null,
            "border": null,
            "bottom": null,
            "display": null,
            "flex": null,
            "flex_flow": null,
            "grid_area": null,
            "grid_auto_columns": null,
            "grid_auto_flow": null,
            "grid_auto_rows": null,
            "grid_column": null,
            "grid_gap": null,
            "grid_row": null,
            "grid_template_areas": null,
            "grid_template_columns": null,
            "grid_template_rows": null,
            "height": null,
            "justify_content": null,
            "justify_items": null,
            "left": null,
            "margin": null,
            "max_height": null,
            "max_width": null,
            "min_height": null,
            "min_width": null,
            "object_fit": null,
            "object_position": null,
            "order": null,
            "overflow": null,
            "overflow_x": null,
            "overflow_y": null,
            "padding": null,
            "right": null,
            "top": null,
            "visibility": null,
            "width": null
          }
        },
        "eb1b324c34274fa595412c9f0b32865e": {
          "model_module": "@jupyter-widgets/base",
          "model_name": "LayoutModel",
          "model_module_version": "1.2.0",
          "state": {
            "_model_module": "@jupyter-widgets/base",
            "_model_module_version": "1.2.0",
            "_model_name": "LayoutModel",
            "_view_count": null,
            "_view_module": "@jupyter-widgets/base",
            "_view_module_version": "1.2.0",
            "_view_name": "LayoutView",
            "align_content": null,
            "align_items": null,
            "align_self": null,
            "border": null,
            "bottom": null,
            "display": null,
            "flex": null,
            "flex_flow": null,
            "grid_area": null,
            "grid_auto_columns": null,
            "grid_auto_flow": null,
            "grid_auto_rows": null,
            "grid_column": null,
            "grid_gap": null,
            "grid_row": null,
            "grid_template_areas": null,
            "grid_template_columns": null,
            "grid_template_rows": null,
            "height": null,
            "justify_content": null,
            "justify_items": null,
            "left": null,
            "margin": null,
            "max_height": null,
            "max_width": null,
            "min_height": null,
            "min_width": null,
            "object_fit": null,
            "object_position": null,
            "order": null,
            "overflow": null,
            "overflow_x": null,
            "overflow_y": null,
            "padding": null,
            "right": null,
            "top": null,
            "visibility": null,
            "width": null
          }
        },
        "2a456d01c688405ab695f09a8c4ff1b6": {
          "model_module": "@jupyter-widgets/controls",
          "model_name": "SliderStyleModel",
          "model_module_version": "1.5.0",
          "state": {
            "_model_module": "@jupyter-widgets/controls",
            "_model_module_version": "1.5.0",
            "_model_name": "SliderStyleModel",
            "_view_count": null,
            "_view_module": "@jupyter-widgets/base",
            "_view_module_version": "1.2.0",
            "_view_name": "StyleView",
            "description_width": "",
            "handle_color": null
          }
        },
        "cb5e0390a0e64b888e64dc460048e69b": {
          "model_module": "@jupyter-widgets/base",
          "model_name": "LayoutModel",
          "model_module_version": "1.2.0",
          "state": {
            "_model_module": "@jupyter-widgets/base",
            "_model_module_version": "1.2.0",
            "_model_name": "LayoutModel",
            "_view_count": null,
            "_view_module": "@jupyter-widgets/base",
            "_view_module_version": "1.2.0",
            "_view_name": "LayoutView",
            "align_content": null,
            "align_items": null,
            "align_self": null,
            "border": null,
            "bottom": null,
            "display": null,
            "flex": null,
            "flex_flow": null,
            "grid_area": null,
            "grid_auto_columns": null,
            "grid_auto_flow": null,
            "grid_auto_rows": null,
            "grid_column": null,
            "grid_gap": null,
            "grid_row": null,
            "grid_template_areas": null,
            "grid_template_columns": null,
            "grid_template_rows": null,
            "height": null,
            "justify_content": null,
            "justify_items": null,
            "left": null,
            "margin": null,
            "max_height": null,
            "max_width": null,
            "min_height": null,
            "min_width": null,
            "object_fit": null,
            "object_position": null,
            "order": null,
            "overflow": null,
            "overflow_x": null,
            "overflow_y": null,
            "padding": null,
            "right": null,
            "top": null,
            "visibility": null,
            "width": null
          }
        },
        "18fbd6417a414b9db0d9e4021618b590": {
          "model_module": "@jupyter-widgets/controls",
          "model_name": "SliderStyleModel",
          "model_module_version": "1.5.0",
          "state": {
            "_model_module": "@jupyter-widgets/controls",
            "_model_module_version": "1.5.0",
            "_model_name": "SliderStyleModel",
            "_view_count": null,
            "_view_module": "@jupyter-widgets/base",
            "_view_module_version": "1.2.0",
            "_view_name": "StyleView",
            "description_width": "",
            "handle_color": null
          }
        },
        "b45bd251ecdd47f79f520986acd8b644": {
          "model_module": "@jupyter-widgets/base",
          "model_name": "LayoutModel",
          "model_module_version": "1.2.0",
          "state": {
            "_model_module": "@jupyter-widgets/base",
            "_model_module_version": "1.2.0",
            "_model_name": "LayoutModel",
            "_view_count": null,
            "_view_module": "@jupyter-widgets/base",
            "_view_module_version": "1.2.0",
            "_view_name": "LayoutView",
            "align_content": null,
            "align_items": null,
            "align_self": null,
            "border": null,
            "bottom": null,
            "display": null,
            "flex": null,
            "flex_flow": null,
            "grid_area": null,
            "grid_auto_columns": null,
            "grid_auto_flow": null,
            "grid_auto_rows": null,
            "grid_column": null,
            "grid_gap": null,
            "grid_row": null,
            "grid_template_areas": null,
            "grid_template_columns": null,
            "grid_template_rows": null,
            "height": null,
            "justify_content": null,
            "justify_items": null,
            "left": null,
            "margin": null,
            "max_height": null,
            "max_width": null,
            "min_height": null,
            "min_width": null,
            "object_fit": null,
            "object_position": null,
            "order": null,
            "overflow": null,
            "overflow_x": null,
            "overflow_y": null,
            "padding": null,
            "right": null,
            "top": null,
            "visibility": null,
            "width": null
          }
        }
      }
    }
  },
  "nbformat": 4,
  "nbformat_minor": 5
}